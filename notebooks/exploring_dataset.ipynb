{
 "cells": [
  {
   "cell_type": "code",
   "execution_count": 2,
   "metadata": {},
   "outputs": [],
   "source": [
    "import pandas as pd\n",
    "import yfinance as yf\n",
    "import numpy as np\n",
    "import matplotlib.pyplot as plt\n",
    "import seaborn as sns\n",
    "import datetime as dt\n",
    "import requests\n",
    "import json\n",
    "import alpha_vantage\n",
    "import sys\n",
    "\n",
    "sys.path.append('/Users/benpfeffer/Library/Mobile Documents/com~apple~CloudDocs/Cloud_Code/Projects-Porfolio/Tech-Sector-Deep-Dive')"
   ]
  },
  {
   "cell_type": "markdown",
   "metadata": {},
   "source": [
    "# Resources to get started\n",
    "\n",
    "We need:\n",
    "  - Historical stock prices\n",
    "  - Financial statements\n",
    "  - Market indicators\n",
    "  - News sentiment data\n",
    "\n",
    "We use for data sources:\n",
    "- Yahoo finance API\n",
    "- Alpha Vantage API\n",
    "- SEC EDGAR database"
   ]
  },
  {
   "cell_type": "code",
   "execution_count": 3,
   "metadata": {},
   "outputs": [],
   "source": [
    "from src.data.load_data import *\n",
    "from src.utils.load_config import *\n",
    "from src.utils.load_logging import *\n",
    "from src.data.get_data import *"
   ]
  },
  {
   "cell_type": "code",
   "execution_count": 4,
   "metadata": {},
   "outputs": [],
   "source": [
    "load_logger()\n",
    "config = load_config()\n"
   ]
  },
  {
   "cell_type": "code",
   "execution_count": 6,
   "metadata": {},
   "outputs": [
    {
     "name": "stderr",
     "output_type": "stream",
     "text": [
      "2024-12-10 15:11:11,886 [INFO] src.utils.load_logging: Retrieving historical data for AAPL...\n",
      "2024-12-10 15:11:12,545 [INFO] src.utils.load_logging: Historical data for AAPL saved to /data/raw/AAPL_historical_data.csv\n"
     ]
    }
   ],
   "source": [
    "# # Retrieve datasets\n",
    "# stocks = ['AAPL', 'MSFT', 'GOOGL', 'AMZN', 'NVDA', 'TSLA', 'META', 'NFLX', 'DIS', 'WMT']\n",
    "\n",
    "# # Get historical data for 5 stocks\n",
    "apple = get_historical_data(\"AAPL\", period='max')\n",
    "# microsoft = get_historical_data(\"MSFT\")\n",
    "# google = get_historical_data(\"GOOGL\")\n",
    "# amazon = get_historical_data(\"AMZN\")\n",
    "# nvidia = get_historical_data(\"NVDA\")\n",
    "\n"
   ]
  },
  {
   "cell_type": "code",
   "execution_count": 5,
   "metadata": {},
   "outputs": [],
   "source": [
    "# Get financial statements for 5 stocks\n",
    "#get_financial_statements(\"AAPL\")\n",
    "# get_financial_statements(\"MSFT\")\n",
    "# get_financial_statements(\"GOOGL\")\n",
    "# get_financial_statements(\"AMZN\")\n",
    "# get_financial_statements(\"NVDA\")"
   ]
  },
  {
   "cell_type": "code",
   "execution_count": 6,
   "metadata": {},
   "outputs": [
    {
     "name": "stderr",
     "output_type": "stream",
     "text": [
      "2024-12-10 13:50:23,121 [INFO] src.utils.load_logging: Retrieving news sentiment data for GOOGL...\n",
      "2024-12-10 13:50:23,122 [INFO] src.utils.load_logging: News sentiment data directory: /Users/benpfeffer/Library/Mobile Documents/com~apple~CloudDocs/Cloud_Code/Projects-Porfolio/Tech-Sector-Deep-Dive/data/news\n",
      "2024-12-10 13:50:23,338 [INFO] src.utils.load_logging: News sentiment data for GOOGL saved to /Users/benpfeffer/Library/Mobile Documents/com~apple~CloudDocs/Cloud_Code/Projects-Porfolio/Tech-Sector-Deep-Dive/data/news/GOOGL_news_sentiment.json.\n",
      "2024-12-10 13:50:23,338 [WARNING] src.utils.load_logging: No news articles found in 'feed' for GOOGL. Returning empty DataFrame.\n",
      "2024-12-10 13:50:23,339 [INFO] src.utils.load_logging: Retrieving news sentiment data for AAPL...\n",
      "2024-12-10 13:50:23,339 [INFO] src.utils.load_logging: News sentiment data directory: /Users/benpfeffer/Library/Mobile Documents/com~apple~CloudDocs/Cloud_Code/Projects-Porfolio/Tech-Sector-Deep-Dive/data/news\n",
      "2024-12-10 13:50:23,742 [INFO] src.utils.load_logging: News sentiment data for AAPL saved to /Users/benpfeffer/Library/Mobile Documents/com~apple~CloudDocs/Cloud_Code/Projects-Porfolio/Tech-Sector-Deep-Dive/data/news/AAPL_news_sentiment.json.\n",
      "2024-12-10 13:50:23,747 [INFO] src.utils.load_logging: News sentiment DataFrame for AAPL saved to /Users/benpfeffer/Library/Mobile Documents/com~apple~CloudDocs/Cloud_Code/Projects-Porfolio/Tech-Sector-Deep-Dive/data/news/AAPL_news_sentiment.csv.\n",
      "2024-12-10 13:50:23,747 [INFO] src.utils.load_logging: News sentiment data for AAPL successfully retrieved and processed.\n",
      "2024-12-10 13:50:23,748 [INFO] src.utils.load_logging: Retrieving news sentiment data for AMZN...\n",
      "2024-12-10 13:50:23,748 [INFO] src.utils.load_logging: News sentiment data directory: /Users/benpfeffer/Library/Mobile Documents/com~apple~CloudDocs/Cloud_Code/Projects-Porfolio/Tech-Sector-Deep-Dive/data/news\n",
      "2024-12-10 13:50:24,188 [INFO] src.utils.load_logging: News sentiment data for AMZN saved to /Users/benpfeffer/Library/Mobile Documents/com~apple~CloudDocs/Cloud_Code/Projects-Porfolio/Tech-Sector-Deep-Dive/data/news/AMZN_news_sentiment.json.\n",
      "2024-12-10 13:50:24,190 [INFO] src.utils.load_logging: News sentiment DataFrame for AMZN saved to /Users/benpfeffer/Library/Mobile Documents/com~apple~CloudDocs/Cloud_Code/Projects-Porfolio/Tech-Sector-Deep-Dive/data/news/AMZN_news_sentiment.csv.\n",
      "2024-12-10 13:50:24,190 [INFO] src.utils.load_logging: News sentiment data for AMZN successfully retrieved and processed.\n",
      "2024-12-10 13:50:24,190 [INFO] src.utils.load_logging: Retrieving news sentiment data for NVDA...\n",
      "2024-12-10 13:50:24,191 [INFO] src.utils.load_logging: News sentiment data directory: /Users/benpfeffer/Library/Mobile Documents/com~apple~CloudDocs/Cloud_Code/Projects-Porfolio/Tech-Sector-Deep-Dive/data/news\n",
      "2024-12-10 13:50:24,367 [INFO] src.utils.load_logging: News sentiment data for NVDA saved to /Users/benpfeffer/Library/Mobile Documents/com~apple~CloudDocs/Cloud_Code/Projects-Porfolio/Tech-Sector-Deep-Dive/data/news/NVDA_news_sentiment.json.\n",
      "2024-12-10 13:50:24,369 [INFO] src.utils.load_logging: News sentiment DataFrame for NVDA saved to /Users/benpfeffer/Library/Mobile Documents/com~apple~CloudDocs/Cloud_Code/Projects-Porfolio/Tech-Sector-Deep-Dive/data/news/NVDA_news_sentiment.csv.\n",
      "2024-12-10 13:50:24,369 [INFO] src.utils.load_logging: News sentiment data for NVDA successfully retrieved and processed.\n",
      "2024-12-10 13:50:24,370 [INFO] src.utils.load_logging: Retrieving news sentiment data for MSFT...\n",
      "2024-12-10 13:50:24,370 [INFO] src.utils.load_logging: News sentiment data directory: /Users/benpfeffer/Library/Mobile Documents/com~apple~CloudDocs/Cloud_Code/Projects-Porfolio/Tech-Sector-Deep-Dive/data/news\n",
      "2024-12-10 13:50:24,934 [INFO] src.utils.load_logging: News sentiment data for MSFT saved to /Users/benpfeffer/Library/Mobile Documents/com~apple~CloudDocs/Cloud_Code/Projects-Porfolio/Tech-Sector-Deep-Dive/data/news/MSFT_news_sentiment.json.\n",
      "2024-12-10 13:50:24,937 [INFO] src.utils.load_logging: News sentiment DataFrame for MSFT saved to /Users/benpfeffer/Library/Mobile Documents/com~apple~CloudDocs/Cloud_Code/Projects-Porfolio/Tech-Sector-Deep-Dive/data/news/MSFT_news_sentiment.csv.\n",
      "2024-12-10 13:50:24,937 [INFO] src.utils.load_logging: News sentiment data for MSFT successfully retrieved and processed.\n"
     ]
    }
   ],
   "source": [
    "from src.data.get_data import news_sentiment\n",
    "# Get market indicators for 5 stocks\n",
    "google_news = news_sentiment(\"GOOGL\")\n",
    "apple_news = news_sentiment(\"AAPL\")\n",
    "amazon_news = news_sentiment(\"AMZN\")\n",
    "nvidia_news = news_sentiment(\"NVDA\")\n",
    "microsoft_news = news_sentiment(\"MSFT\")\n",
    "\n",
    "\n"
   ]
  },
  {
   "cell_type": "code",
   "execution_count": null,
   "metadata": {},
   "outputs": [],
   "source": []
  }
 ],
 "metadata": {
  "kernelspec": {
   "display_name": "base",
   "language": "python",
   "name": "python3"
  },
  "language_info": {
   "codemirror_mode": {
    "name": "ipython",
    "version": 3
   },
   "file_extension": ".py",
   "mimetype": "text/x-python",
   "name": "python",
   "nbconvert_exporter": "python",
   "pygments_lexer": "ipython3",
   "version": "3.12.4"
  }
 },
 "nbformat": 4,
 "nbformat_minor": 2
}

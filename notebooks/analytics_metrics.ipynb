{
 "cells": [
  {
   "cell_type": "code",
   "execution_count": 44,
   "metadata": {},
   "outputs": [
    {
     "name": "stderr",
     "output_type": "stream",
     "text": [
      "2024-12-10 16:26:29,189 [INFO] src.utils.load_logging: Loading data...\n"
     ]
    }
   ],
   "source": [
    "import pandas as pd\n",
    "import numpy as np\n",
    "import plotly.express as px\n",
    "import matplotlib.pyplot as plt\n",
    "import seaborn as sns\n",
    "import scipy.stats as stats\n",
    "import sys\n",
    "sys.path.append(\"/Users/benpfeffer/Library/Mobile Documents/com~apple~CloudDocs/Cloud_Code/Projects-Porfolio/Tech-Sector-Deep-Dive/\")\n",
    "from src.utils.load_config import load_config\n",
    "from src.utils.load_logging import load_logger\n",
    "\n",
    "config = load_config()\n",
    "logging = load_logger()\n",
    "\n",
    "logging.info(\"Loading data...\")\n"
   ]
  },
  {
   "cell_type": "code",
   "execution_count": 45,
   "metadata": {},
   "outputs": [
    {
     "data": {
      "text/html": [
       "<div>\n",
       "<style scoped>\n",
       "    .dataframe tbody tr th:only-of-type {\n",
       "        vertical-align: middle;\n",
       "    }\n",
       "\n",
       "    .dataframe tbody tr th {\n",
       "        vertical-align: top;\n",
       "    }\n",
       "\n",
       "    .dataframe thead th {\n",
       "        text-align: right;\n",
       "    }\n",
       "</style>\n",
       "<table border=\"1\" class=\"dataframe\">\n",
       "  <thead>\n",
       "    <tr style=\"text-align: right;\">\n",
       "      <th></th>\n",
       "      <th>Date</th>\n",
       "      <th>reportedCurrency</th>\n",
       "      <th>grossProfit</th>\n",
       "      <th>totalRevenue</th>\n",
       "      <th>costOfRevenue</th>\n",
       "      <th>costofGoodsAndServicesSold</th>\n",
       "      <th>operatingIncome</th>\n",
       "      <th>sellingGeneralAndAdministrative</th>\n",
       "      <th>researchAndDevelopment</th>\n",
       "      <th>operatingExpenses</th>\n",
       "      <th>...</th>\n",
       "      <th>incomeBeforeTax</th>\n",
       "      <th>incomeTaxExpense</th>\n",
       "      <th>interestAndDebtExpense</th>\n",
       "      <th>netIncomeFromContinuingOperations</th>\n",
       "      <th>comprehensiveIncomeNetOfTax</th>\n",
       "      <th>ebit</th>\n",
       "      <th>ebitda</th>\n",
       "      <th>netIncome</th>\n",
       "      <th>report_type</th>\n",
       "      <th>Symbol</th>\n",
       "    </tr>\n",
       "  </thead>\n",
       "  <tbody>\n",
       "    <tr>\n",
       "      <th>0</th>\n",
       "      <td>2024-09-30</td>\n",
       "      <td>USD</td>\n",
       "      <td>180683000000</td>\n",
       "      <td>391035000000</td>\n",
       "      <td>236449000000</td>\n",
       "      <td>210352000000</td>\n",
       "      <td>123216000000</td>\n",
       "      <td>26097000000</td>\n",
       "      <td>31370000000</td>\n",
       "      <td>57467000000</td>\n",
       "      <td>...</td>\n",
       "      <td>123485000000</td>\n",
       "      <td>29749000000</td>\n",
       "      <td>NaN</td>\n",
       "      <td>9.373600e+10</td>\n",
       "      <td>9.801600e+10</td>\n",
       "      <td>123216000000</td>\n",
       "      <td>134661000000</td>\n",
       "      <td>93736000000</td>\n",
       "      <td>annual</td>\n",
       "      <td>AAPL</td>\n",
       "    </tr>\n",
       "    <tr>\n",
       "      <th>1</th>\n",
       "      <td>2024-09-30</td>\n",
       "      <td>USD</td>\n",
       "      <td>43879000000</td>\n",
       "      <td>94930000000</td>\n",
       "      <td>57574000000</td>\n",
       "      <td>51051000000</td>\n",
       "      <td>29591000000</td>\n",
       "      <td>6523000000</td>\n",
       "      <td>7765000000</td>\n",
       "      <td>14288000000</td>\n",
       "      <td>...</td>\n",
       "      <td>29610000000</td>\n",
       "      <td>14874000000</td>\n",
       "      <td>NaN</td>\n",
       "      <td>1.473600e+10</td>\n",
       "      <td>1.598000e+10</td>\n",
       "      <td>29591000000</td>\n",
       "      <td>32502000000</td>\n",
       "      <td>14736000000</td>\n",
       "      <td>quarterly</td>\n",
       "      <td>AAPL</td>\n",
       "    </tr>\n",
       "    <tr>\n",
       "      <th>2</th>\n",
       "      <td>2024-06-30</td>\n",
       "      <td>USD</td>\n",
       "      <td>39678000000</td>\n",
       "      <td>85777000000</td>\n",
       "      <td>52419000000</td>\n",
       "      <td>46099000000</td>\n",
       "      <td>25352000000</td>\n",
       "      <td>6320000000</td>\n",
       "      <td>8006000000</td>\n",
       "      <td>14326000000</td>\n",
       "      <td>...</td>\n",
       "      <td>25494000000</td>\n",
       "      <td>4046000000</td>\n",
       "      <td>NaN</td>\n",
       "      <td>2.144800e+10</td>\n",
       "      <td>2.199200e+10</td>\n",
       "      <td>25352000000</td>\n",
       "      <td>28202000000</td>\n",
       "      <td>21448000000</td>\n",
       "      <td>quarterly</td>\n",
       "      <td>AAPL</td>\n",
       "    </tr>\n",
       "    <tr>\n",
       "      <th>3</th>\n",
       "      <td>2024-03-31</td>\n",
       "      <td>USD</td>\n",
       "      <td>42271000000</td>\n",
       "      <td>90753000000</td>\n",
       "      <td>54950000000</td>\n",
       "      <td>48482000000</td>\n",
       "      <td>27900000000</td>\n",
       "      <td>6468000000</td>\n",
       "      <td>7903000000</td>\n",
       "      <td>14371000000</td>\n",
       "      <td>...</td>\n",
       "      <td>28058000000</td>\n",
       "      <td>4422000000</td>\n",
       "      <td>NaN</td>\n",
       "      <td>2.363600e+10</td>\n",
       "      <td>2.405400e+10</td>\n",
       "      <td>27900000000</td>\n",
       "      <td>30736000000</td>\n",
       "      <td>23636000000</td>\n",
       "      <td>quarterly</td>\n",
       "      <td>AAPL</td>\n",
       "    </tr>\n",
       "    <tr>\n",
       "      <th>4</th>\n",
       "      <td>2023-12-31</td>\n",
       "      <td>USD</td>\n",
       "      <td>54855000000</td>\n",
       "      <td>119575000000</td>\n",
       "      <td>71506000000</td>\n",
       "      <td>64720000000</td>\n",
       "      <td>40373000000</td>\n",
       "      <td>6786000000</td>\n",
       "      <td>7696000000</td>\n",
       "      <td>14482000000</td>\n",
       "      <td>...</td>\n",
       "      <td>40323000000</td>\n",
       "      <td>6407000000</td>\n",
       "      <td>NaN</td>\n",
       "      <td>3.391600e+10</td>\n",
       "      <td>3.599000e+10</td>\n",
       "      <td>40373000000</td>\n",
       "      <td>43221000000</td>\n",
       "      <td>33916000000</td>\n",
       "      <td>quarterly</td>\n",
       "      <td>AAPL</td>\n",
       "    </tr>\n",
       "  </tbody>\n",
       "</table>\n",
       "<p>5 rows × 28 columns</p>\n",
       "</div>"
      ],
      "text/plain": [
       "         Date reportedCurrency   grossProfit  totalRevenue  costOfRevenue  \\\n",
       "0  2024-09-30              USD  180683000000  391035000000   236449000000   \n",
       "1  2024-09-30              USD   43879000000   94930000000    57574000000   \n",
       "2  2024-06-30              USD   39678000000   85777000000    52419000000   \n",
       "3  2024-03-31              USD   42271000000   90753000000    54950000000   \n",
       "4  2023-12-31              USD   54855000000  119575000000    71506000000   \n",
       "\n",
       "   costofGoodsAndServicesSold  operatingIncome  \\\n",
       "0                210352000000     123216000000   \n",
       "1                 51051000000      29591000000   \n",
       "2                 46099000000      25352000000   \n",
       "3                 48482000000      27900000000   \n",
       "4                 64720000000      40373000000   \n",
       "\n",
       "   sellingGeneralAndAdministrative  researchAndDevelopment  operatingExpenses  \\\n",
       "0                      26097000000             31370000000        57467000000   \n",
       "1                       6523000000              7765000000        14288000000   \n",
       "2                       6320000000              8006000000        14326000000   \n",
       "3                       6468000000              7903000000        14371000000   \n",
       "4                       6786000000              7696000000        14482000000   \n",
       "\n",
       "   ...  incomeBeforeTax  incomeTaxExpense  interestAndDebtExpense  \\\n",
       "0  ...     123485000000       29749000000                     NaN   \n",
       "1  ...      29610000000       14874000000                     NaN   \n",
       "2  ...      25494000000        4046000000                     NaN   \n",
       "3  ...      28058000000        4422000000                     NaN   \n",
       "4  ...      40323000000        6407000000                     NaN   \n",
       "\n",
       "   netIncomeFromContinuingOperations  comprehensiveIncomeNetOfTax  \\\n",
       "0                       9.373600e+10                 9.801600e+10   \n",
       "1                       1.473600e+10                 1.598000e+10   \n",
       "2                       2.144800e+10                 2.199200e+10   \n",
       "3                       2.363600e+10                 2.405400e+10   \n",
       "4                       3.391600e+10                 3.599000e+10   \n",
       "\n",
       "           ebit        ebitda    netIncome  report_type  Symbol  \n",
       "0  123216000000  134661000000  93736000000       annual    AAPL  \n",
       "1   29591000000   32502000000  14736000000    quarterly    AAPL  \n",
       "2   25352000000   28202000000  21448000000    quarterly    AAPL  \n",
       "3   27900000000   30736000000  23636000000    quarterly    AAPL  \n",
       "4   40373000000   43221000000  33916000000    quarterly    AAPL  \n",
       "\n",
       "[5 rows x 28 columns]"
      ]
     },
     "execution_count": 45,
     "metadata": {},
     "output_type": "execute_result"
    }
   ],
   "source": [
    "df = pd.read_csv(\"/Users/benpfeffer/Library/Mobile Documents/com~apple~CloudDocs/Cloud_Code/Projects-Porfolio/Tech-Sector-Deep-Dive/data/processed/fundamentals-analysis/financial_statements_merged.csv\")\n",
    "df.head()"
   ]
  },
  {
   "cell_type": "code",
   "execution_count": 46,
   "metadata": {},
   "outputs": [],
   "source": [
    "df['Date'] = pd.to_datetime(df['Date'])"
   ]
  },
  {
   "cell_type": "code",
   "execution_count": 47,
   "metadata": {},
   "outputs": [
    {
     "data": {
      "text/plain": [
       "Date                                 datetime64[ns]\n",
       "reportedCurrency                             object\n",
       "grossProfit                                   int64\n",
       "totalRevenue                                  int64\n",
       "costOfRevenue                                 int64\n",
       "costofGoodsAndServicesSold                    int64\n",
       "operatingIncome                               int64\n",
       "sellingGeneralAndAdministrative               int64\n",
       "researchAndDevelopment                        int64\n",
       "operatingExpenses                             int64\n",
       "investmentIncomeNet                         float64\n",
       "netInterestIncome                           float64\n",
       "interestIncome                              float64\n",
       "interestExpense                             float64\n",
       "nonInterestIncome                           float64\n",
       "otherNonOperatingIncome                     float64\n",
       "depreciation                                float64\n",
       "depreciationAndAmortization                   int64\n",
       "incomeBeforeTax                               int64\n",
       "incomeTaxExpense                              int64\n",
       "interestAndDebtExpense                      float64\n",
       "netIncomeFromContinuingOperations           float64\n",
       "comprehensiveIncomeNetOfTax                 float64\n",
       "ebit                                          int64\n",
       "ebitda                                        int64\n",
       "netIncome                                     int64\n",
       "report_type                                  object\n",
       "Symbol                                       object\n",
       "dtype: object"
      ]
     },
     "execution_count": 47,
     "metadata": {},
     "output_type": "execute_result"
    }
   ],
   "source": [
    "df.dtypes"
   ]
  },
  {
   "cell_type": "code",
   "execution_count": 48,
   "metadata": {},
   "outputs": [],
   "source": [
    "df = df.drop(\"reportedCurrency\", axis=1)\n",
    "#df = df.set_index(['Date', 'Symbol'])\n"
   ]
  },
  {
   "cell_type": "code",
   "execution_count": 49,
   "metadata": {},
   "outputs": [
    {
     "data": {
      "text/plain": [
       "Index(['Date', 'grossProfit', 'totalRevenue', 'costOfRevenue',\n",
       "       'costofGoodsAndServicesSold', 'operatingIncome',\n",
       "       'sellingGeneralAndAdministrative', 'researchAndDevelopment',\n",
       "       'operatingExpenses', 'investmentIncomeNet', 'netInterestIncome',\n",
       "       'interestIncome', 'interestExpense', 'nonInterestIncome',\n",
       "       'otherNonOperatingIncome', 'depreciation',\n",
       "       'depreciationAndAmortization', 'incomeBeforeTax', 'incomeTaxExpense',\n",
       "       'interestAndDebtExpense', 'netIncomeFromContinuingOperations',\n",
       "       'comprehensiveIncomeNetOfTax', 'ebit', 'ebitda', 'netIncome', 'Symbol'],\n",
       "      dtype='object')"
      ]
     },
     "execution_count": 49,
     "metadata": {},
     "output_type": "execute_result"
    }
   ],
   "source": [
    "df_annual = df[df['report_type'] == 'annual']\n",
    "df_annual = df_annual.drop(\"report_type\", axis=1)\n",
    "\n",
    "df_annual.columns"
   ]
  },
  {
   "cell_type": "code",
   "execution_count": 50,
   "metadata": {},
   "outputs": [
    {
     "name": "stderr",
     "output_type": "stream",
     "text": [
      "/var/folders/8p/tyj3gj5j7f54558fzrt60f700000gn/T/ipykernel_63817/148061224.py:6: SettingWithCopyWarning:\n",
      "\n",
      "\n",
      "A value is trying to be set on a copy of a slice from a DataFrame\n",
      "\n",
      "See the caveats in the documentation: https://pandas.pydata.org/pandas-docs/stable/user_guide/indexing.html#returning-a-view-versus-a-copy\n",
      "\n",
      "/var/folders/8p/tyj3gj5j7f54558fzrt60f700000gn/T/ipykernel_63817/148061224.py:7: SettingWithCopyWarning:\n",
      "\n",
      "\n",
      "A value is trying to be set on a copy of a slice from a DataFrame\n",
      "\n",
      "See the caveats in the documentation: https://pandas.pydata.org/pandas-docs/stable/user_guide/indexing.html#returning-a-view-versus-a-copy\n",
      "\n",
      "/var/folders/8p/tyj3gj5j7f54558fzrt60f700000gn/T/ipykernel_63817/148061224.py:8: SettingWithCopyWarning:\n",
      "\n",
      "\n",
      "A value is trying to be set on a copy of a slice from a DataFrame\n",
      "\n",
      "See the caveats in the documentation: https://pandas.pydata.org/pandas-docs/stable/user_guide/indexing.html#returning-a-view-versus-a-copy\n",
      "\n",
      "/var/folders/8p/tyj3gj5j7f54558fzrt60f700000gn/T/ipykernel_63817/148061224.py:9: SettingWithCopyWarning:\n",
      "\n",
      "\n",
      "A value is trying to be set on a copy of a slice from a DataFrame\n",
      "\n",
      "See the caveats in the documentation: https://pandas.pydata.org/pandas-docs/stable/user_guide/indexing.html#returning-a-view-versus-a-copy\n",
      "\n",
      "/var/folders/8p/tyj3gj5j7f54558fzrt60f700000gn/T/ipykernel_63817/148061224.py:10: SettingWithCopyWarning:\n",
      "\n",
      "\n",
      "A value is trying to be set on a copy of a slice from a DataFrame\n",
      "\n",
      "See the caveats in the documentation: https://pandas.pydata.org/pandas-docs/stable/user_guide/indexing.html#returning-a-view-versus-a-copy\n",
      "\n"
     ]
    }
   ],
   "source": [
    "aapl = df_annual[df_annual['Symbol'] == 'AAPL']\n",
    "amzn = df_annual[df_annual['Symbol'] == 'AMZN']\n",
    "googl = df_annual[df_annual['Symbol'] == 'GOOGL']\n",
    "msft = df_annual[df_annual['Symbol'] == 'MSFT']\n",
    "nvda = df_annual[df_annual['Symbol'] == 'NVDA']\n",
    "aapl.drop('Symbol', axis=1, inplace=True)\n",
    "amzn.drop('Symbol', axis=1, inplace=True)\n",
    "googl.drop('Symbol', axis=1, inplace=True)\n",
    "msft.drop('Symbol', axis=1, inplace=True)\n",
    "nvda.drop('Symbol', axis=1, inplace=True)"
   ]
  },
  {
   "cell_type": "code",
   "execution_count": 51,
   "metadata": {},
   "outputs": [
    {
     "data": {
      "text/html": [
       "<div>\n",
       "<style scoped>\n",
       "    .dataframe tbody tr th:only-of-type {\n",
       "        vertical-align: middle;\n",
       "    }\n",
       "\n",
       "    .dataframe tbody tr th {\n",
       "        vertical-align: top;\n",
       "    }\n",
       "\n",
       "    .dataframe thead th {\n",
       "        text-align: right;\n",
       "    }\n",
       "</style>\n",
       "<table border=\"1\" class=\"dataframe\">\n",
       "  <thead>\n",
       "    <tr style=\"text-align: right;\">\n",
       "      <th></th>\n",
       "      <th>Date</th>\n",
       "      <th>grossProfit</th>\n",
       "      <th>totalRevenue</th>\n",
       "      <th>costOfRevenue</th>\n",
       "      <th>costofGoodsAndServicesSold</th>\n",
       "      <th>operatingIncome</th>\n",
       "      <th>sellingGeneralAndAdministrative</th>\n",
       "      <th>researchAndDevelopment</th>\n",
       "      <th>operatingExpenses</th>\n",
       "      <th>investmentIncomeNet</th>\n",
       "      <th>...</th>\n",
       "      <th>depreciation</th>\n",
       "      <th>depreciationAndAmortization</th>\n",
       "      <th>incomeBeforeTax</th>\n",
       "      <th>incomeTaxExpense</th>\n",
       "      <th>interestAndDebtExpense</th>\n",
       "      <th>netIncomeFromContinuingOperations</th>\n",
       "      <th>comprehensiveIncomeNetOfTax</th>\n",
       "      <th>ebit</th>\n",
       "      <th>ebitda</th>\n",
       "      <th>netIncome</th>\n",
       "    </tr>\n",
       "  </thead>\n",
       "  <tbody>\n",
       "    <tr>\n",
       "      <th>0</th>\n",
       "      <td>2024-09-30</td>\n",
       "      <td>180683000000</td>\n",
       "      <td>391035000000</td>\n",
       "      <td>236449000000</td>\n",
       "      <td>210352000000</td>\n",
       "      <td>123216000000</td>\n",
       "      <td>26097000000</td>\n",
       "      <td>31370000000</td>\n",
       "      <td>57467000000</td>\n",
       "      <td>NaN</td>\n",
       "      <td>...</td>\n",
       "      <td>8.200000e+09</td>\n",
       "      <td>11445000000</td>\n",
       "      <td>123485000000</td>\n",
       "      <td>29749000000</td>\n",
       "      <td>NaN</td>\n",
       "      <td>9.373600e+10</td>\n",
       "      <td>9.801600e+10</td>\n",
       "      <td>123216000000</td>\n",
       "      <td>134661000000</td>\n",
       "      <td>93736000000</td>\n",
       "    </tr>\n",
       "    <tr>\n",
       "      <th>5</th>\n",
       "      <td>2023-09-30</td>\n",
       "      <td>169148000000</td>\n",
       "      <td>379352000000</td>\n",
       "      <td>239069000000</td>\n",
       "      <td>214137000000</td>\n",
       "      <td>114301000000</td>\n",
       "      <td>24932000000</td>\n",
       "      <td>29915000000</td>\n",
       "      <td>54847000000</td>\n",
       "      <td>3.750000e+09</td>\n",
       "      <td>...</td>\n",
       "      <td>8.500000e+09</td>\n",
       "      <td>11519000000</td>\n",
       "      <td>113736000000</td>\n",
       "      <td>16741000000</td>\n",
       "      <td>3.933000e+09</td>\n",
       "      <td>9.699500e+10</td>\n",
       "      <td>9.665200e+10</td>\n",
       "      <td>117669000000</td>\n",
       "      <td>125820000000</td>\n",
       "      <td>96995000000</td>\n",
       "    </tr>\n",
       "    <tr>\n",
       "      <th>10</th>\n",
       "      <td>2022-09-30</td>\n",
       "      <td>170782000000</td>\n",
       "      <td>391397000000</td>\n",
       "      <td>248640000000</td>\n",
       "      <td>223546000000</td>\n",
       "      <td>119437000000</td>\n",
       "      <td>25094000000</td>\n",
       "      <td>26251000000</td>\n",
       "      <td>51345000000</td>\n",
       "      <td>2.825000e+09</td>\n",
       "      <td>...</td>\n",
       "      <td>8.700000e+09</td>\n",
       "      <td>11104000000</td>\n",
       "      <td>119103000000</td>\n",
       "      <td>19300000000</td>\n",
       "      <td>2.931000e+09</td>\n",
       "      <td>9.980300e+10</td>\n",
       "      <td>8.853100e+10</td>\n",
       "      <td>122034000000</td>\n",
       "      <td>130541000000</td>\n",
       "      <td>99803000000</td>\n",
       "    </tr>\n",
       "    <tr>\n",
       "      <th>15</th>\n",
       "      <td>2021-09-30</td>\n",
       "      <td>152836000000</td>\n",
       "      <td>363172000000</td>\n",
       "      <td>234954000000</td>\n",
       "      <td>212981000000</td>\n",
       "      <td>108949000000</td>\n",
       "      <td>21973000000</td>\n",
       "      <td>21914000000</td>\n",
       "      <td>43887000000</td>\n",
       "      <td>2.843000e+09</td>\n",
       "      <td>...</td>\n",
       "      <td>9.500000e+09</td>\n",
       "      <td>11284000000</td>\n",
       "      <td>109207000000</td>\n",
       "      <td>14527000000</td>\n",
       "      <td>2.645000e+09</td>\n",
       "      <td>9.468000e+10</td>\n",
       "      <td>9.524900e+10</td>\n",
       "      <td>111852000000</td>\n",
       "      <td>120233000000</td>\n",
       "      <td>94680000000</td>\n",
       "    </tr>\n",
       "    <tr>\n",
       "      <th>20</th>\n",
       "      <td>2020-09-30</td>\n",
       "      <td>104956000000</td>\n",
       "      <td>271642000000</td>\n",
       "      <td>189475000000</td>\n",
       "      <td>169559000000</td>\n",
       "      <td>66288000000</td>\n",
       "      <td>19916000000</td>\n",
       "      <td>18752000000</td>\n",
       "      <td>38668000000</td>\n",
       "      <td>3.763000e+09</td>\n",
       "      <td>...</td>\n",
       "      <td>9.700000e+09</td>\n",
       "      <td>11056000000</td>\n",
       "      <td>67091000000</td>\n",
       "      <td>9680000000</td>\n",
       "      <td>2.873000e+09</td>\n",
       "      <td>5.741100e+10</td>\n",
       "      <td>5.745300e+10</td>\n",
       "      <td>69964000000</td>\n",
       "      <td>77344000000</td>\n",
       "      <td>57411000000</td>\n",
       "    </tr>\n",
       "    <tr>\n",
       "      <th>25</th>\n",
       "      <td>2019-09-30</td>\n",
       "      <td>98392000000</td>\n",
       "      <td>256598000000</td>\n",
       "      <td>180027000000</td>\n",
       "      <td>161782000000</td>\n",
       "      <td>63930000000</td>\n",
       "      <td>18245000000</td>\n",
       "      <td>16217000000</td>\n",
       "      <td>34462000000</td>\n",
       "      <td>4.961000e+09</td>\n",
       "      <td>...</td>\n",
       "      <td>1.130000e+10</td>\n",
       "      <td>11300000000</td>\n",
       "      <td>65737000000</td>\n",
       "      <td>10481000000</td>\n",
       "      <td>3.576000e+09</td>\n",
       "      <td>5.525600e+10</td>\n",
       "      <td>5.803700e+10</td>\n",
       "      <td>69313000000</td>\n",
       "      <td>76477000000</td>\n",
       "      <td>55256000000</td>\n",
       "    </tr>\n",
       "    <tr>\n",
       "      <th>30</th>\n",
       "      <td>2018-09-30</td>\n",
       "      <td>101839000000</td>\n",
       "      <td>265595000000</td>\n",
       "      <td>163756000000</td>\n",
       "      <td>163756000000</td>\n",
       "      <td>70898000000</td>\n",
       "      <td>16705000000</td>\n",
       "      <td>14236000000</td>\n",
       "      <td>30941000000</td>\n",
       "      <td>5.686000e+09</td>\n",
       "      <td>...</td>\n",
       "      <td>9.300000e+09</td>\n",
       "      <td>9300000000</td>\n",
       "      <td>72903000000</td>\n",
       "      <td>13372000000</td>\n",
       "      <td>3.240000e+09</td>\n",
       "      <td>5.953100e+10</td>\n",
       "      <td>5.650500e+10</td>\n",
       "      <td>76143000000</td>\n",
       "      <td>81801000000</td>\n",
       "      <td>59531000000</td>\n",
       "    </tr>\n",
       "    <tr>\n",
       "      <th>35</th>\n",
       "      <td>2017-09-30</td>\n",
       "      <td>88186000000</td>\n",
       "      <td>229234000000</td>\n",
       "      <td>141048000000</td>\n",
       "      <td>141048000000</td>\n",
       "      <td>61344000000</td>\n",
       "      <td>15261000000</td>\n",
       "      <td>11581000000</td>\n",
       "      <td>26842000000</td>\n",
       "      <td>5.201000e+09</td>\n",
       "      <td>...</td>\n",
       "      <td>8.200000e+09</td>\n",
       "      <td>1200000000</td>\n",
       "      <td>64089000000</td>\n",
       "      <td>15738000000</td>\n",
       "      <td>2.323000e+09</td>\n",
       "      <td>4.835100e+10</td>\n",
       "      <td>4.756700e+10</td>\n",
       "      <td>66412000000</td>\n",
       "      <td>67612000000</td>\n",
       "      <td>48351000000</td>\n",
       "    </tr>\n",
       "    <tr>\n",
       "      <th>40</th>\n",
       "      <td>2016-09-30</td>\n",
       "      <td>84263000000</td>\n",
       "      <td>215639000000</td>\n",
       "      <td>131376000000</td>\n",
       "      <td>131376000000</td>\n",
       "      <td>60024000000</td>\n",
       "      <td>14194000000</td>\n",
       "      <td>10045000000</td>\n",
       "      <td>24239000000</td>\n",
       "      <td>3.999000e+09</td>\n",
       "      <td>...</td>\n",
       "      <td>8.300000e+09</td>\n",
       "      <td>8300000000</td>\n",
       "      <td>61372000000</td>\n",
       "      <td>15685000000</td>\n",
       "      <td>1.456000e+09</td>\n",
       "      <td>4.568700e+10</td>\n",
       "      <td>4.666600e+10</td>\n",
       "      <td>62828000000</td>\n",
       "      <td>71128000000</td>\n",
       "      <td>45687000000</td>\n",
       "    </tr>\n",
       "    <tr>\n",
       "      <th>45</th>\n",
       "      <td>2015-09-30</td>\n",
       "      <td>93626000000</td>\n",
       "      <td>232982000000</td>\n",
       "      <td>163618000000</td>\n",
       "      <td>140089000000</td>\n",
       "      <td>71230000000</td>\n",
       "      <td>14329000000</td>\n",
       "      <td>8067000000</td>\n",
       "      <td>22396000000</td>\n",
       "      <td>2.921000e+09</td>\n",
       "      <td>...</td>\n",
       "      <td>NaN</td>\n",
       "      <td>9200000000</td>\n",
       "      <td>72515000000</td>\n",
       "      <td>19121000000</td>\n",
       "      <td>7.330000e+08</td>\n",
       "      <td>5.339400e+10</td>\n",
       "      <td>5.196700e+10</td>\n",
       "      <td>73248000000</td>\n",
       "      <td>82448000000</td>\n",
       "      <td>53394000000</td>\n",
       "    </tr>\n",
       "    <tr>\n",
       "      <th>50</th>\n",
       "      <td>2014-09-30</td>\n",
       "      <td>70537000000</td>\n",
       "      <td>182411000000</td>\n",
       "      <td>131151000000</td>\n",
       "      <td>112258000000</td>\n",
       "      <td>52503000000</td>\n",
       "      <td>11993000000</td>\n",
       "      <td>6041000000</td>\n",
       "      <td>18034000000</td>\n",
       "      <td>1.795000e+09</td>\n",
       "      <td>...</td>\n",
       "      <td>NaN</td>\n",
       "      <td>6900000000</td>\n",
       "      <td>53483000000</td>\n",
       "      <td>13973000000</td>\n",
       "      <td>3.840000e+08</td>\n",
       "      <td>3.951000e+10</td>\n",
       "      <td>4.106300e+10</td>\n",
       "      <td>53867000000</td>\n",
       "      <td>60767000000</td>\n",
       "      <td>39510000000</td>\n",
       "    </tr>\n",
       "    <tr>\n",
       "      <th>55</th>\n",
       "      <td>2013-09-30</td>\n",
       "      <td>64304000000</td>\n",
       "      <td>170774000000</td>\n",
       "      <td>123236000000</td>\n",
       "      <td>106606000000</td>\n",
       "      <td>48999000000</td>\n",
       "      <td>10830000000</td>\n",
       "      <td>4475000000</td>\n",
       "      <td>15305000000</td>\n",
       "      <td>1.616000e+09</td>\n",
       "      <td>...</td>\n",
       "      <td>NaN</td>\n",
       "      <td>5800000000</td>\n",
       "      <td>50155000000</td>\n",
       "      <td>13118000000</td>\n",
       "      <td>1.360000e+08</td>\n",
       "      <td>3.703700e+10</td>\n",
       "      <td>3.606700e+10</td>\n",
       "      <td>50291000000</td>\n",
       "      <td>56091000000</td>\n",
       "      <td>37037000000</td>\n",
       "    </tr>\n",
       "    <tr>\n",
       "      <th>60</th>\n",
       "      <td>2012-09-30</td>\n",
       "      <td>68662000000</td>\n",
       "      <td>156508000000</td>\n",
       "      <td>100486000000</td>\n",
       "      <td>87846000000</td>\n",
       "      <td>55241000000</td>\n",
       "      <td>10040000000</td>\n",
       "      <td>3381000000</td>\n",
       "      <td>13421000000</td>\n",
       "      <td>1.088000e+09</td>\n",
       "      <td>...</td>\n",
       "      <td>NaN</td>\n",
       "      <td>2600000000</td>\n",
       "      <td>55763000000</td>\n",
       "      <td>14030000000</td>\n",
       "      <td>0.000000e+00</td>\n",
       "      <td>4.173300e+10</td>\n",
       "      <td>4.178900e+10</td>\n",
       "      <td>55763000000</td>\n",
       "      <td>58363000000</td>\n",
       "      <td>41733000000</td>\n",
       "    </tr>\n",
       "    <tr>\n",
       "      <th>65</th>\n",
       "      <td>2011-09-30</td>\n",
       "      <td>43818000000</td>\n",
       "      <td>108249000000</td>\n",
       "      <td>73630000000</td>\n",
       "      <td>64431000000</td>\n",
       "      <td>33790000000</td>\n",
       "      <td>7599000000</td>\n",
       "      <td>2429000000</td>\n",
       "      <td>10028000000</td>\n",
       "      <td>5.190000e+08</td>\n",
       "      <td>...</td>\n",
       "      <td>NaN</td>\n",
       "      <td>1600000000</td>\n",
       "      <td>34205000000</td>\n",
       "      <td>8283000000</td>\n",
       "      <td>0.000000e+00</td>\n",
       "      <td>2.592200e+10</td>\n",
       "      <td>2.641100e+10</td>\n",
       "      <td>34205000000</td>\n",
       "      <td>35805000000</td>\n",
       "      <td>25922000000</td>\n",
       "    </tr>\n",
       "    <tr>\n",
       "      <th>70</th>\n",
       "      <td>2010-09-30</td>\n",
       "      <td>25684000000</td>\n",
       "      <td>65225000000</td>\n",
       "      <td>45873000000</td>\n",
       "      <td>39541000000</td>\n",
       "      <td>18385000000</td>\n",
       "      <td>5517000000</td>\n",
       "      <td>1782000000</td>\n",
       "      <td>7299000000</td>\n",
       "      <td>NaN</td>\n",
       "      <td>...</td>\n",
       "      <td>NaN</td>\n",
       "      <td>815000000</td>\n",
       "      <td>18540000000</td>\n",
       "      <td>4527000000</td>\n",
       "      <td>NaN</td>\n",
       "      <td>1.401300e+10</td>\n",
       "      <td>1.389000e+10</td>\n",
       "      <td>18385000000</td>\n",
       "      <td>19200000000</td>\n",
       "      <td>14013000000</td>\n",
       "    </tr>\n",
       "    <tr>\n",
       "      <th>75</th>\n",
       "      <td>2009-09-30</td>\n",
       "      <td>17222000000</td>\n",
       "      <td>42905000000</td>\n",
       "      <td>29832000000</td>\n",
       "      <td>25683000000</td>\n",
       "      <td>11740000000</td>\n",
       "      <td>4149000000</td>\n",
       "      <td>1333000000</td>\n",
       "      <td>5482000000</td>\n",
       "      <td>NaN</td>\n",
       "      <td>...</td>\n",
       "      <td>NaN</td>\n",
       "      <td>606000000</td>\n",
       "      <td>12066000000</td>\n",
       "      <td>3831000000</td>\n",
       "      <td>NaN</td>\n",
       "      <td>8.235000e+09</td>\n",
       "      <td>8.321000e+09</td>\n",
       "      <td>11740000000</td>\n",
       "      <td>12346000000</td>\n",
       "      <td>8235000000</td>\n",
       "    </tr>\n",
       "  </tbody>\n",
       "</table>\n",
       "<p>16 rows × 25 columns</p>\n",
       "</div>"
      ],
      "text/plain": [
       "         Date   grossProfit  totalRevenue  costOfRevenue  \\\n",
       "0  2024-09-30  180683000000  391035000000   236449000000   \n",
       "5  2023-09-30  169148000000  379352000000   239069000000   \n",
       "10 2022-09-30  170782000000  391397000000   248640000000   \n",
       "15 2021-09-30  152836000000  363172000000   234954000000   \n",
       "20 2020-09-30  104956000000  271642000000   189475000000   \n",
       "25 2019-09-30   98392000000  256598000000   180027000000   \n",
       "30 2018-09-30  101839000000  265595000000   163756000000   \n",
       "35 2017-09-30   88186000000  229234000000   141048000000   \n",
       "40 2016-09-30   84263000000  215639000000   131376000000   \n",
       "45 2015-09-30   93626000000  232982000000   163618000000   \n",
       "50 2014-09-30   70537000000  182411000000   131151000000   \n",
       "55 2013-09-30   64304000000  170774000000   123236000000   \n",
       "60 2012-09-30   68662000000  156508000000   100486000000   \n",
       "65 2011-09-30   43818000000  108249000000    73630000000   \n",
       "70 2010-09-30   25684000000   65225000000    45873000000   \n",
       "75 2009-09-30   17222000000   42905000000    29832000000   \n",
       "\n",
       "    costofGoodsAndServicesSold  operatingIncome  \\\n",
       "0                 210352000000     123216000000   \n",
       "5                 214137000000     114301000000   \n",
       "10                223546000000     119437000000   \n",
       "15                212981000000     108949000000   \n",
       "20                169559000000      66288000000   \n",
       "25                161782000000      63930000000   \n",
       "30                163756000000      70898000000   \n",
       "35                141048000000      61344000000   \n",
       "40                131376000000      60024000000   \n",
       "45                140089000000      71230000000   \n",
       "50                112258000000      52503000000   \n",
       "55                106606000000      48999000000   \n",
       "60                 87846000000      55241000000   \n",
       "65                 64431000000      33790000000   \n",
       "70                 39541000000      18385000000   \n",
       "75                 25683000000      11740000000   \n",
       "\n",
       "    sellingGeneralAndAdministrative  researchAndDevelopment  \\\n",
       "0                       26097000000             31370000000   \n",
       "5                       24932000000             29915000000   \n",
       "10                      25094000000             26251000000   \n",
       "15                      21973000000             21914000000   \n",
       "20                      19916000000             18752000000   \n",
       "25                      18245000000             16217000000   \n",
       "30                      16705000000             14236000000   \n",
       "35                      15261000000             11581000000   \n",
       "40                      14194000000             10045000000   \n",
       "45                      14329000000              8067000000   \n",
       "50                      11993000000              6041000000   \n",
       "55                      10830000000              4475000000   \n",
       "60                      10040000000              3381000000   \n",
       "65                       7599000000              2429000000   \n",
       "70                       5517000000              1782000000   \n",
       "75                       4149000000              1333000000   \n",
       "\n",
       "    operatingExpenses  investmentIncomeNet  ...  depreciation  \\\n",
       "0         57467000000                  NaN  ...  8.200000e+09   \n",
       "5         54847000000         3.750000e+09  ...  8.500000e+09   \n",
       "10        51345000000         2.825000e+09  ...  8.700000e+09   \n",
       "15        43887000000         2.843000e+09  ...  9.500000e+09   \n",
       "20        38668000000         3.763000e+09  ...  9.700000e+09   \n",
       "25        34462000000         4.961000e+09  ...  1.130000e+10   \n",
       "30        30941000000         5.686000e+09  ...  9.300000e+09   \n",
       "35        26842000000         5.201000e+09  ...  8.200000e+09   \n",
       "40        24239000000         3.999000e+09  ...  8.300000e+09   \n",
       "45        22396000000         2.921000e+09  ...           NaN   \n",
       "50        18034000000         1.795000e+09  ...           NaN   \n",
       "55        15305000000         1.616000e+09  ...           NaN   \n",
       "60        13421000000         1.088000e+09  ...           NaN   \n",
       "65        10028000000         5.190000e+08  ...           NaN   \n",
       "70         7299000000                  NaN  ...           NaN   \n",
       "75         5482000000                  NaN  ...           NaN   \n",
       "\n",
       "    depreciationAndAmortization  incomeBeforeTax  incomeTaxExpense  \\\n",
       "0                   11445000000     123485000000       29749000000   \n",
       "5                   11519000000     113736000000       16741000000   \n",
       "10                  11104000000     119103000000       19300000000   \n",
       "15                  11284000000     109207000000       14527000000   \n",
       "20                  11056000000      67091000000        9680000000   \n",
       "25                  11300000000      65737000000       10481000000   \n",
       "30                   9300000000      72903000000       13372000000   \n",
       "35                   1200000000      64089000000       15738000000   \n",
       "40                   8300000000      61372000000       15685000000   \n",
       "45                   9200000000      72515000000       19121000000   \n",
       "50                   6900000000      53483000000       13973000000   \n",
       "55                   5800000000      50155000000       13118000000   \n",
       "60                   2600000000      55763000000       14030000000   \n",
       "65                   1600000000      34205000000        8283000000   \n",
       "70                    815000000      18540000000        4527000000   \n",
       "75                    606000000      12066000000        3831000000   \n",
       "\n",
       "    interestAndDebtExpense  netIncomeFromContinuingOperations  \\\n",
       "0                      NaN                       9.373600e+10   \n",
       "5             3.933000e+09                       9.699500e+10   \n",
       "10            2.931000e+09                       9.980300e+10   \n",
       "15            2.645000e+09                       9.468000e+10   \n",
       "20            2.873000e+09                       5.741100e+10   \n",
       "25            3.576000e+09                       5.525600e+10   \n",
       "30            3.240000e+09                       5.953100e+10   \n",
       "35            2.323000e+09                       4.835100e+10   \n",
       "40            1.456000e+09                       4.568700e+10   \n",
       "45            7.330000e+08                       5.339400e+10   \n",
       "50            3.840000e+08                       3.951000e+10   \n",
       "55            1.360000e+08                       3.703700e+10   \n",
       "60            0.000000e+00                       4.173300e+10   \n",
       "65            0.000000e+00                       2.592200e+10   \n",
       "70                     NaN                       1.401300e+10   \n",
       "75                     NaN                       8.235000e+09   \n",
       "\n",
       "    comprehensiveIncomeNetOfTax          ebit        ebitda    netIncome  \n",
       "0                  9.801600e+10  123216000000  134661000000  93736000000  \n",
       "5                  9.665200e+10  117669000000  125820000000  96995000000  \n",
       "10                 8.853100e+10  122034000000  130541000000  99803000000  \n",
       "15                 9.524900e+10  111852000000  120233000000  94680000000  \n",
       "20                 5.745300e+10   69964000000   77344000000  57411000000  \n",
       "25                 5.803700e+10   69313000000   76477000000  55256000000  \n",
       "30                 5.650500e+10   76143000000   81801000000  59531000000  \n",
       "35                 4.756700e+10   66412000000   67612000000  48351000000  \n",
       "40                 4.666600e+10   62828000000   71128000000  45687000000  \n",
       "45                 5.196700e+10   73248000000   82448000000  53394000000  \n",
       "50                 4.106300e+10   53867000000   60767000000  39510000000  \n",
       "55                 3.606700e+10   50291000000   56091000000  37037000000  \n",
       "60                 4.178900e+10   55763000000   58363000000  41733000000  \n",
       "65                 2.641100e+10   34205000000   35805000000  25922000000  \n",
       "70                 1.389000e+10   18385000000   19200000000  14013000000  \n",
       "75                 8.321000e+09   11740000000   12346000000   8235000000  \n",
       "\n",
       "[16 rows x 25 columns]"
      ]
     },
     "execution_count": 51,
     "metadata": {},
     "output_type": "execute_result"
    }
   ],
   "source": [
    "aapl"
   ]
  },
  {
   "cell_type": "code",
   "execution_count": 52,
   "metadata": {},
   "outputs": [],
   "source": [
    "\n",
    "#df_annual = calculate_financial_metrics(df_annual)\n",
    "aapl = calculate_financial_metrics(aapl)\n",
    "# amzn = calculate_financial_metrics(amzn)\n",
    "# googl = calculate_financial_metrics(googl)\n",
    "# msft = calculate_financial_metrics(msft)\n",
    "# nvda = calculate_financial_metrics(nvda)"
   ]
  },
  {
   "cell_type": "code",
   "execution_count": 53,
   "metadata": {},
   "outputs": [],
   "source": [
    "aapl = pd.DataFrame(aapl)\n",
    "amzn = pd.DataFrame(amzn)\n",
    "googl = pd.DataFrame(googl)\n",
    "msft = pd.DataFrame(msft)\n",
    "nvda = pd.DataFrame(nvda)\n",
    "\n",
    "aapl.to_csv(\"/Users/benpfeffer/Library/Mobile Documents/com~apple~CloudDocs/Cloud_Code/Projects-Porfolio/Tech-Sector-Deep-Dive/data/processed/metrics_annual_AAPL.csv\", index=False)\n",
    "# amzn.to_csv(\"/Users/benpfeffer/Library/Mobile Documents/com~apple~CloudDocs/Cloud_Code/Projects-Porfolio/Tech-Sector-Deep-Dive/data/processed/metrics_annual_AMZN.csv\", index=False)\n",
    "# googl.to_csv(\"/Users/benpfeffer/Library/Mobile Documents/com~apple~CloudDocs/Cloud_Code/Projects-Porfolio/Tech-Sector-Deep-Dive/data/processed/metrics_annual_GOOGL.csv\", index=False)\n",
    "# msft.to_csv(\"/Users/benpfeffer/Library/Mobile Documents/com~apple~CloudDocs/Cloud_Code/Projects-Porfolio/Tech-Sector-Deep-Dive/data/processed/metrics_annual_MSFT.csv\", index=False)\n",
    "# nvda.to_csv(\"/Users/benpfeffer/Library/Mobile Documents/com~apple~CloudDocs/Cloud_Code/Projects-Porfolio/Tech-Sector-Deep-Dive/data/processed/metrics_annual_NVDA.csv\", index=False)\n",
    "\n",
    "\n",
    "# df_annual = pd.DataFrame(df_annual)\n",
    "# df_annual.to_csv(\"/Users/benpfeffer/Library/Mobile Documents/com~apple~CloudDocs/Cloud_Code/Projects-Porfolio/Tech-Sector-Deep-Dive/data/processed/financial_statements_merged_annual.csv\", index=False)\n",
    "# df_annual.head()\n"
   ]
  },
  {
   "cell_type": "code",
   "execution_count": 11,
   "metadata": {},
   "outputs": [],
   "source": [
    "# df_annual = df_annual / 100\n",
    "# df_annual = df_annual.fillna(0)\n",
    "\n",
    "# percent_missing = df_annual.isnull().sum() * 100/ len(df_annual)\n",
    "# missing_values = pd.DataFrame({'column_name': df_annual.columns, 'percent_missing': percent_missing})\n",
    "# missing_values.sort_values('percent_missing', ascending=False)\n",
    "\n",
    "\n"
   ]
  },
  {
   "cell_type": "code",
   "execution_count": 22,
   "metadata": {},
   "outputs": [
    {
     "name": "stderr",
     "output_type": "stream",
     "text": [
      "2024-12-10 12:59:23,896 [INFO] src.utils.load_logging: Dataframe has been set to index\n",
      "2024-12-10 12:59:23,899 [INFO] src.utils.load_logging: Dataframe has been cleaned\n",
      "2024-12-10 12:59:23,919 [INFO] src.utils.load_logging: Dataframe has been set to index\n",
      "2024-12-10 12:59:23,924 [INFO] src.utils.load_logging: Dataframe has been cleaned\n",
      "2024-12-10 12:59:23,932 [INFO] src.utils.load_logging: Dataframe has been set to index\n",
      "2024-12-10 12:59:23,932 [INFO] src.utils.load_logging: Dataframe has been cleaned\n",
      "2024-12-10 12:59:23,936 [INFO] src.utils.load_logging: Dataframe has been set to index\n",
      "2024-12-10 12:59:23,936 [INFO] src.utils.load_logging: Dataframe has been cleaned\n",
      "2024-12-10 12:59:23,939 [INFO] src.utils.load_logging: Dataframe has been set to index\n",
      "2024-12-10 12:59:23,939 [INFO] src.utils.load_logging: Dataframe has been cleaned\n"
     ]
    }
   ],
   "source": [
    "from src.helper.metrics import calculate_financial_metrics\n",
    "\n",
    "def calculate_metrics(df):\n",
    "    df = df.set_index(['Date'])\n",
    "    metrics = calculate_financial_metrics(df)\n",
    "    metrics = pd.DataFrame(metrics)\n",
    "    logging.info(\"Dataframe has been set to index\")\n",
    "    metrics = metrics / 100 # put to ratio\n",
    "    metrics = metrics.fillna(0) # fill na with 0\n",
    "    logging.info(\"Dataframe has been cleaned\")\n",
    "    assert metrics.isnull().sum().sum() == 0, \"There are still missing values in the dataframe\" # check for missing values\n",
    "    metrics = metrics.reset_index()\n",
    "    metrics = metrics.rename(columns={'Date': 'Year'})\n",
    "    metrics = metrics.sort_values('Year', ascending=False)\n",
    "    return metrics\n",
    "\n",
    "aapl_metrics = calculate_metrics(aapl)\n",
    "amzn_metrics = calculate_metrics(amzn)\n",
    "googl_metrics = calculate_metrics(googl)\n",
    "msft_metrics = calculate_metrics(msft)\n",
    "nvda_metrics = calculate_metrics(nvda)"
   ]
  },
  {
   "cell_type": "code",
   "execution_count": 24,
   "metadata": {},
   "outputs": [
    {
     "data": {
      "text/html": [
       "<div>\n",
       "<style scoped>\n",
       "    .dataframe tbody tr th:only-of-type {\n",
       "        vertical-align: middle;\n",
       "    }\n",
       "\n",
       "    .dataframe tbody tr th {\n",
       "        vertical-align: top;\n",
       "    }\n",
       "\n",
       "    .dataframe thead th {\n",
       "        text-align: right;\n",
       "    }\n",
       "</style>\n",
       "<table border=\"1\" class=\"dataframe\">\n",
       "  <thead>\n",
       "    <tr style=\"text-align: right;\">\n",
       "      <th></th>\n",
       "      <th>Year</th>\n",
       "      <th>gross_margin</th>\n",
       "      <th>operating_margin</th>\n",
       "      <th>net_margin</th>\n",
       "      <th>ebitda_margin</th>\n",
       "      <th>opex_ratio</th>\n",
       "      <th>rd_to_revenue</th>\n",
       "      <th>sga_to_revenue</th>\n",
       "      <th>effective_tax_rate</th>\n",
       "      <th>interest_coverage</th>\n",
       "      <th>revenue_growth</th>\n",
       "      <th>net_income_growth</th>\n",
       "      <th>ebitda_growth</th>\n",
       "    </tr>\n",
       "  </thead>\n",
       "  <tbody>\n",
       "    <tr>\n",
       "      <th>15</th>\n",
       "      <td>2024-09-30</td>\n",
       "      <td>0.462063</td>\n",
       "      <td>0.315102</td>\n",
       "      <td>0.239713</td>\n",
       "      <td>0.344371</td>\n",
       "      <td>0.146961</td>\n",
       "      <td>0.080223</td>\n",
       "      <td>0.066738</td>\n",
       "      <td>0.240912</td>\n",
       "      <td>0.000000</td>\n",
       "      <td>0.030797</td>\n",
       "      <td>-0.033600</td>\n",
       "      <td>0.070267</td>\n",
       "    </tr>\n",
       "    <tr>\n",
       "      <th>14</th>\n",
       "      <td>2023-09-30</td>\n",
       "      <td>0.445887</td>\n",
       "      <td>0.301306</td>\n",
       "      <td>0.255686</td>\n",
       "      <td>0.331671</td>\n",
       "      <td>0.144581</td>\n",
       "      <td>0.078858</td>\n",
       "      <td>0.065723</td>\n",
       "      <td>0.147192</td>\n",
       "      <td>0.299184</td>\n",
       "      <td>-0.030774</td>\n",
       "      <td>-0.028135</td>\n",
       "      <td>-0.036165</td>\n",
       "    </tr>\n",
       "    <tr>\n",
       "      <th>13</th>\n",
       "      <td>2022-09-30</td>\n",
       "      <td>0.436340</td>\n",
       "      <td>0.305156</td>\n",
       "      <td>0.254992</td>\n",
       "      <td>0.333526</td>\n",
       "      <td>0.131184</td>\n",
       "      <td>0.067070</td>\n",
       "      <td>0.064114</td>\n",
       "      <td>0.162045</td>\n",
       "      <td>0.416356</td>\n",
       "      <td>0.077718</td>\n",
       "      <td>0.054109</td>\n",
       "      <td>0.085734</td>\n",
       "    </tr>\n",
       "    <tr>\n",
       "      <th>12</th>\n",
       "      <td>2021-09-30</td>\n",
       "      <td>0.420836</td>\n",
       "      <td>0.299993</td>\n",
       "      <td>0.260703</td>\n",
       "      <td>0.331064</td>\n",
       "      <td>0.120844</td>\n",
       "      <td>0.060341</td>\n",
       "      <td>0.060503</td>\n",
       "      <td>0.133023</td>\n",
       "      <td>0.422881</td>\n",
       "      <td>0.336951</td>\n",
       "      <td>0.649161</td>\n",
       "      <td>0.554523</td>\n",
       "    </tr>\n",
       "    <tr>\n",
       "      <th>11</th>\n",
       "      <td>2020-09-30</td>\n",
       "      <td>0.386376</td>\n",
       "      <td>0.244027</td>\n",
       "      <td>0.211348</td>\n",
       "      <td>0.284728</td>\n",
       "      <td>0.142349</td>\n",
       "      <td>0.069032</td>\n",
       "      <td>0.073317</td>\n",
       "      <td>0.144282</td>\n",
       "      <td>0.243522</td>\n",
       "      <td>0.058629</td>\n",
       "      <td>0.039000</td>\n",
       "      <td>0.011337</td>\n",
       "    </tr>\n",
       "    <tr>\n",
       "      <th>10</th>\n",
       "      <td>2019-09-30</td>\n",
       "      <td>0.383448</td>\n",
       "      <td>0.249145</td>\n",
       "      <td>0.215341</td>\n",
       "      <td>0.298042</td>\n",
       "      <td>0.134303</td>\n",
       "      <td>0.063200</td>\n",
       "      <td>0.071103</td>\n",
       "      <td>0.159438</td>\n",
       "      <td>0.193828</td>\n",
       "      <td>-0.033875</td>\n",
       "      <td>-0.071811</td>\n",
       "      <td>-0.065085</td>\n",
       "    </tr>\n",
       "    <tr>\n",
       "      <th>9</th>\n",
       "      <td>2018-09-30</td>\n",
       "      <td>0.383437</td>\n",
       "      <td>0.266940</td>\n",
       "      <td>0.224142</td>\n",
       "      <td>0.307991</td>\n",
       "      <td>0.116497</td>\n",
       "      <td>0.053600</td>\n",
       "      <td>0.062897</td>\n",
       "      <td>0.183422</td>\n",
       "      <td>0.235009</td>\n",
       "      <td>0.158620</td>\n",
       "      <td>0.231226</td>\n",
       "      <td>0.209859</td>\n",
       "    </tr>\n",
       "    <tr>\n",
       "      <th>8</th>\n",
       "      <td>2017-09-30</td>\n",
       "      <td>0.384699</td>\n",
       "      <td>0.267604</td>\n",
       "      <td>0.210924</td>\n",
       "      <td>0.294948</td>\n",
       "      <td>0.117094</td>\n",
       "      <td>0.050520</td>\n",
       "      <td>0.066574</td>\n",
       "      <td>0.245565</td>\n",
       "      <td>0.285889</td>\n",
       "      <td>0.063045</td>\n",
       "      <td>0.058310</td>\n",
       "      <td>-0.049432</td>\n",
       "    </tr>\n",
       "    <tr>\n",
       "      <th>7</th>\n",
       "      <td>2016-09-30</td>\n",
       "      <td>0.390760</td>\n",
       "      <td>0.278354</td>\n",
       "      <td>0.211868</td>\n",
       "      <td>0.329848</td>\n",
       "      <td>0.112405</td>\n",
       "      <td>0.046582</td>\n",
       "      <td>0.065823</td>\n",
       "      <td>0.255573</td>\n",
       "      <td>0.431511</td>\n",
       "      <td>-0.074439</td>\n",
       "      <td>-0.144342</td>\n",
       "      <td>-0.137299</td>\n",
       "    </tr>\n",
       "    <tr>\n",
       "      <th>6</th>\n",
       "      <td>2015-09-30</td>\n",
       "      <td>0.401859</td>\n",
       "      <td>0.305732</td>\n",
       "      <td>0.229177</td>\n",
       "      <td>0.353881</td>\n",
       "      <td>0.096128</td>\n",
       "      <td>0.034625</td>\n",
       "      <td>0.061503</td>\n",
       "      <td>0.263683</td>\n",
       "      <td>0.999291</td>\n",
       "      <td>0.277237</td>\n",
       "      <td>0.351405</td>\n",
       "      <td>0.356789</td>\n",
       "    </tr>\n",
       "    <tr>\n",
       "      <th>5</th>\n",
       "      <td>2014-09-30</td>\n",
       "      <td>0.386693</td>\n",
       "      <td>0.287828</td>\n",
       "      <td>0.216599</td>\n",
       "      <td>0.333132</td>\n",
       "      <td>0.098865</td>\n",
       "      <td>0.033118</td>\n",
       "      <td>0.065747</td>\n",
       "      <td>0.261261</td>\n",
       "      <td>1.402786</td>\n",
       "      <td>0.068143</td>\n",
       "      <td>0.066771</td>\n",
       "      <td>0.083365</td>\n",
       "    </tr>\n",
       "    <tr>\n",
       "      <th>4</th>\n",
       "      <td>2013-09-30</td>\n",
       "      <td>0.376544</td>\n",
       "      <td>0.286923</td>\n",
       "      <td>0.216877</td>\n",
       "      <td>0.328452</td>\n",
       "      <td>0.089621</td>\n",
       "      <td>0.026204</td>\n",
       "      <td>0.063417</td>\n",
       "      <td>0.261549</td>\n",
       "      <td>3.697868</td>\n",
       "      <td>0.091152</td>\n",
       "      <td>-0.112525</td>\n",
       "      <td>-0.038929</td>\n",
       "    </tr>\n",
       "    <tr>\n",
       "      <th>3</th>\n",
       "      <td>2012-09-30</td>\n",
       "      <td>0.438712</td>\n",
       "      <td>0.352960</td>\n",
       "      <td>0.266651</td>\n",
       "      <td>0.372907</td>\n",
       "      <td>0.085753</td>\n",
       "      <td>0.021603</td>\n",
       "      <td>0.064150</td>\n",
       "      <td>0.251601</td>\n",
       "      <td>0.000000</td>\n",
       "      <td>0.445815</td>\n",
       "      <td>0.609945</td>\n",
       "      <td>0.630024</td>\n",
       "    </tr>\n",
       "    <tr>\n",
       "      <th>2</th>\n",
       "      <td>2011-09-30</td>\n",
       "      <td>0.404789</td>\n",
       "      <td>0.312151</td>\n",
       "      <td>0.239466</td>\n",
       "      <td>0.330765</td>\n",
       "      <td>0.092638</td>\n",
       "      <td>0.022439</td>\n",
       "      <td>0.070199</td>\n",
       "      <td>0.242158</td>\n",
       "      <td>0.000000</td>\n",
       "      <td>0.659624</td>\n",
       "      <td>0.849854</td>\n",
       "      <td>0.864844</td>\n",
       "    </tr>\n",
       "    <tr>\n",
       "      <th>1</th>\n",
       "      <td>2010-09-30</td>\n",
       "      <td>0.393775</td>\n",
       "      <td>0.281870</td>\n",
       "      <td>0.214841</td>\n",
       "      <td>0.294366</td>\n",
       "      <td>0.111905</td>\n",
       "      <td>0.027321</td>\n",
       "      <td>0.084584</td>\n",
       "      <td>0.244175</td>\n",
       "      <td>1.186129</td>\n",
       "      <td>0.520219</td>\n",
       "      <td>0.701639</td>\n",
       "      <td>0.555160</td>\n",
       "    </tr>\n",
       "    <tr>\n",
       "      <th>0</th>\n",
       "      <td>2009-09-30</td>\n",
       "      <td>0.401398</td>\n",
       "      <td>0.273628</td>\n",
       "      <td>0.191936</td>\n",
       "      <td>0.287752</td>\n",
       "      <td>0.127771</td>\n",
       "      <td>0.031069</td>\n",
       "      <td>0.096702</td>\n",
       "      <td>0.317504</td>\n",
       "      <td>0.360123</td>\n",
       "      <td>0.000000</td>\n",
       "      <td>0.000000</td>\n",
       "      <td>0.000000</td>\n",
       "    </tr>\n",
       "  </tbody>\n",
       "</table>\n",
       "</div>"
      ],
      "text/plain": [
       "         Year  gross_margin  operating_margin  net_margin  ebitda_margin  \\\n",
       "15 2024-09-30      0.462063          0.315102    0.239713       0.344371   \n",
       "14 2023-09-30      0.445887          0.301306    0.255686       0.331671   \n",
       "13 2022-09-30      0.436340          0.305156    0.254992       0.333526   \n",
       "12 2021-09-30      0.420836          0.299993    0.260703       0.331064   \n",
       "11 2020-09-30      0.386376          0.244027    0.211348       0.284728   \n",
       "10 2019-09-30      0.383448          0.249145    0.215341       0.298042   \n",
       "9  2018-09-30      0.383437          0.266940    0.224142       0.307991   \n",
       "8  2017-09-30      0.384699          0.267604    0.210924       0.294948   \n",
       "7  2016-09-30      0.390760          0.278354    0.211868       0.329848   \n",
       "6  2015-09-30      0.401859          0.305732    0.229177       0.353881   \n",
       "5  2014-09-30      0.386693          0.287828    0.216599       0.333132   \n",
       "4  2013-09-30      0.376544          0.286923    0.216877       0.328452   \n",
       "3  2012-09-30      0.438712          0.352960    0.266651       0.372907   \n",
       "2  2011-09-30      0.404789          0.312151    0.239466       0.330765   \n",
       "1  2010-09-30      0.393775          0.281870    0.214841       0.294366   \n",
       "0  2009-09-30      0.401398          0.273628    0.191936       0.287752   \n",
       "\n",
       "    opex_ratio  rd_to_revenue  sga_to_revenue  effective_tax_rate  \\\n",
       "15    0.146961       0.080223        0.066738            0.240912   \n",
       "14    0.144581       0.078858        0.065723            0.147192   \n",
       "13    0.131184       0.067070        0.064114            0.162045   \n",
       "12    0.120844       0.060341        0.060503            0.133023   \n",
       "11    0.142349       0.069032        0.073317            0.144282   \n",
       "10    0.134303       0.063200        0.071103            0.159438   \n",
       "9     0.116497       0.053600        0.062897            0.183422   \n",
       "8     0.117094       0.050520        0.066574            0.245565   \n",
       "7     0.112405       0.046582        0.065823            0.255573   \n",
       "6     0.096128       0.034625        0.061503            0.263683   \n",
       "5     0.098865       0.033118        0.065747            0.261261   \n",
       "4     0.089621       0.026204        0.063417            0.261549   \n",
       "3     0.085753       0.021603        0.064150            0.251601   \n",
       "2     0.092638       0.022439        0.070199            0.242158   \n",
       "1     0.111905       0.027321        0.084584            0.244175   \n",
       "0     0.127771       0.031069        0.096702            0.317504   \n",
       "\n",
       "    interest_coverage  revenue_growth  net_income_growth  ebitda_growth  \n",
       "15           0.000000        0.030797          -0.033600       0.070267  \n",
       "14           0.299184       -0.030774          -0.028135      -0.036165  \n",
       "13           0.416356        0.077718           0.054109       0.085734  \n",
       "12           0.422881        0.336951           0.649161       0.554523  \n",
       "11           0.243522        0.058629           0.039000       0.011337  \n",
       "10           0.193828       -0.033875          -0.071811      -0.065085  \n",
       "9            0.235009        0.158620           0.231226       0.209859  \n",
       "8            0.285889        0.063045           0.058310      -0.049432  \n",
       "7            0.431511       -0.074439          -0.144342      -0.137299  \n",
       "6            0.999291        0.277237           0.351405       0.356789  \n",
       "5            1.402786        0.068143           0.066771       0.083365  \n",
       "4            3.697868        0.091152          -0.112525      -0.038929  \n",
       "3            0.000000        0.445815           0.609945       0.630024  \n",
       "2            0.000000        0.659624           0.849854       0.864844  \n",
       "1            1.186129        0.520219           0.701639       0.555160  \n",
       "0            0.360123        0.000000           0.000000       0.000000  "
      ]
     },
     "execution_count": 24,
     "metadata": {},
     "output_type": "execute_result"
    }
   ],
   "source": [
    "aapl\n",
    "aapl_metrics"
   ]
  },
  {
   "cell_type": "code",
   "execution_count": 42,
   "metadata": {},
   "outputs": [
    {
     "data": {
      "application/vnd.plotly.v1+json": {
       "config": {
        "plotlyServerURL": "https://plot.ly"
       },
       "data": [
        {
         "type": "scatter",
         "x": [
          "2024-09-30T00:00:00",
          "2023-09-30T00:00:00",
          "2022-09-30T00:00:00",
          "2021-09-30T00:00:00",
          "2020-09-30T00:00:00",
          "2019-09-30T00:00:00",
          "2018-09-30T00:00:00",
          "2017-09-30T00:00:00",
          "2016-09-30T00:00:00",
          "2015-09-30T00:00:00",
          "2014-09-30T00:00:00",
          "2013-09-30T00:00:00",
          "2012-09-30T00:00:00",
          "2011-09-30T00:00:00",
          "2010-09-30T00:00:00",
          "2009-09-30T00:00:00"
         ],
         "xaxis": "x",
         "y": [
          0.4620634981523393,
          0.44588666990025094,
          0.4363395733743488,
          0.42083640809313494,
          0.38637618630403253,
          0.3834480393455912,
          0.3834371882000791,
          0.38469860491899105,
          0.3907595564809705,
          0.4018593711102145,
          0.38669268848918104,
          0.3765444388490052,
          0.4387123980882766,
          0.40478895878945764,
          0.39377539287083174,
          0.4013984384104417
         ],
         "yaxis": "y"
        },
        {
         "type": "scatter",
         "x": [
          "2024-09-30T00:00:00",
          "2023-09-30T00:00:00",
          "2022-09-30T00:00:00",
          "2021-09-30T00:00:00",
          "2020-09-30T00:00:00",
          "2019-09-30T00:00:00",
          "2018-09-30T00:00:00",
          "2017-09-30T00:00:00",
          "2016-09-30T00:00:00",
          "2015-09-30T00:00:00",
          "2014-09-30T00:00:00",
          "2013-09-30T00:00:00",
          "2012-09-30T00:00:00",
          "2011-09-30T00:00:00",
          "2010-09-30T00:00:00",
          "2009-09-30T00:00:00"
         ],
         "xaxis": "x2",
         "y": [
          0.31510222870075566,
          0.30130591113266836,
          0.3051556348158008,
          0.2999928408577754,
          0.2440270650341258,
          0.24914457634120296,
          0.26694026619477024,
          0.2676042820872994,
          0.27835410106706115,
          0.30573177327003803,
          0.28782803668638407,
          0.2869230679143195,
          0.35295959311984054,
          0.31215068961376086,
          0.2818704484476811,
          0.2736277823097541
         ],
         "yaxis": "y2"
        },
        {
         "type": "scatter",
         "x": [
          "2024-09-30T00:00:00",
          "2023-09-30T00:00:00",
          "2022-09-30T00:00:00",
          "2021-09-30T00:00:00",
          "2020-09-30T00:00:00",
          "2019-09-30T00:00:00",
          "2018-09-30T00:00:00",
          "2017-09-30T00:00:00",
          "2016-09-30T00:00:00",
          "2015-09-30T00:00:00",
          "2014-09-30T00:00:00",
          "2013-09-30T00:00:00",
          "2012-09-30T00:00:00",
          "2011-09-30T00:00:00",
          "2010-09-30T00:00:00",
          "2009-09-30T00:00:00"
         ],
         "xaxis": "x3",
         "y": [
          0.23971255769943867,
          0.25568601193614376,
          0.2549917347348089,
          0.26070291762580816,
          0.21134802423778357,
          0.21534072751931035,
          0.22414202074587247,
          0.21092420845075338,
          0.21186798306428797,
          0.22917650290580385,
          0.21659877967885705,
          0.21687727640038884,
          0.26665090602397323,
          0.2394664153941376,
          0.21484093522422384,
          0.1919356718331197
         ],
         "yaxis": "y3"
        },
        {
         "type": "scatter",
         "x": [
          "2024-09-30T00:00:00",
          "2023-09-30T00:00:00",
          "2022-09-30T00:00:00",
          "2021-09-30T00:00:00",
          "2020-09-30T00:00:00",
          "2019-09-30T00:00:00",
          "2018-09-30T00:00:00",
          "2017-09-30T00:00:00",
          "2016-09-30T00:00:00",
          "2015-09-30T00:00:00",
          "2014-09-30T00:00:00",
          "2013-09-30T00:00:00",
          "2012-09-30T00:00:00",
          "2011-09-30T00:00:00",
          "2010-09-30T00:00:00",
          "2009-09-30T00:00:00"
         ],
         "xaxis": "x4",
         "y": [
          0.3443707085043538,
          0.33167084923764734,
          0.3335258062785356,
          0.3310635181126298,
          0.2847276930666097,
          0.2980420735937147,
          0.3079914908036672,
          0.2949475208738669,
          0.3298475693172385,
          0.3538814157316874,
          0.33313232206391064,
          0.3284516378371415,
          0.37290745520995733,
          0.33076518027880164,
          0.294365657339977,
          0.287752010255215
         ],
         "yaxis": "y4"
        }
       ],
       "layout": {
        "annotations": [
         {
          "font": {
           "size": 16
          },
          "showarrow": false,
          "text": "Gross Margin Over Time",
          "x": 0.225,
          "xanchor": "center",
          "xref": "paper",
          "y": 1,
          "yanchor": "bottom",
          "yref": "paper"
         },
         {
          "font": {
           "size": 16
          },
          "showarrow": false,
          "text": "Operating Margin Over Time",
          "x": 0.775,
          "xanchor": "center",
          "xref": "paper",
          "y": 1,
          "yanchor": "bottom",
          "yref": "paper"
         },
         {
          "font": {
           "size": 16
          },
          "showarrow": false,
          "text": "Net Margin Over Time",
          "x": 0.225,
          "xanchor": "center",
          "xref": "paper",
          "y": 0.375,
          "yanchor": "bottom",
          "yref": "paper"
         },
         {
          "font": {
           "size": 16
          },
          "showarrow": false,
          "text": "EBITDA Margin Over Time",
          "x": 0.775,
          "xanchor": "center",
          "xref": "paper",
          "y": 0.375,
          "yanchor": "bottom",
          "yref": "paper"
         }
        ],
        "height": 800,
        "showlegend": false,
        "template": {
         "data": {
          "bar": [
           {
            "error_x": {
             "color": "#2a3f5f"
            },
            "error_y": {
             "color": "#2a3f5f"
            },
            "marker": {
             "line": {
              "color": "#E5ECF6",
              "width": 0.5
             },
             "pattern": {
              "fillmode": "overlay",
              "size": 10,
              "solidity": 0.2
             }
            },
            "type": "bar"
           }
          ],
          "barpolar": [
           {
            "marker": {
             "line": {
              "color": "#E5ECF6",
              "width": 0.5
             },
             "pattern": {
              "fillmode": "overlay",
              "size": 10,
              "solidity": 0.2
             }
            },
            "type": "barpolar"
           }
          ],
          "carpet": [
           {
            "aaxis": {
             "endlinecolor": "#2a3f5f",
             "gridcolor": "white",
             "linecolor": "white",
             "minorgridcolor": "white",
             "startlinecolor": "#2a3f5f"
            },
            "baxis": {
             "endlinecolor": "#2a3f5f",
             "gridcolor": "white",
             "linecolor": "white",
             "minorgridcolor": "white",
             "startlinecolor": "#2a3f5f"
            },
            "type": "carpet"
           }
          ],
          "choropleth": [
           {
            "colorbar": {
             "outlinewidth": 0,
             "ticks": ""
            },
            "type": "choropleth"
           }
          ],
          "contour": [
           {
            "colorbar": {
             "outlinewidth": 0,
             "ticks": ""
            },
            "colorscale": [
             [
              0,
              "#0d0887"
             ],
             [
              0.1111111111111111,
              "#46039f"
             ],
             [
              0.2222222222222222,
              "#7201a8"
             ],
             [
              0.3333333333333333,
              "#9c179e"
             ],
             [
              0.4444444444444444,
              "#bd3786"
             ],
             [
              0.5555555555555556,
              "#d8576b"
             ],
             [
              0.6666666666666666,
              "#ed7953"
             ],
             [
              0.7777777777777778,
              "#fb9f3a"
             ],
             [
              0.8888888888888888,
              "#fdca26"
             ],
             [
              1,
              "#f0f921"
             ]
            ],
            "type": "contour"
           }
          ],
          "contourcarpet": [
           {
            "colorbar": {
             "outlinewidth": 0,
             "ticks": ""
            },
            "type": "contourcarpet"
           }
          ],
          "heatmap": [
           {
            "colorbar": {
             "outlinewidth": 0,
             "ticks": ""
            },
            "colorscale": [
             [
              0,
              "#0d0887"
             ],
             [
              0.1111111111111111,
              "#46039f"
             ],
             [
              0.2222222222222222,
              "#7201a8"
             ],
             [
              0.3333333333333333,
              "#9c179e"
             ],
             [
              0.4444444444444444,
              "#bd3786"
             ],
             [
              0.5555555555555556,
              "#d8576b"
             ],
             [
              0.6666666666666666,
              "#ed7953"
             ],
             [
              0.7777777777777778,
              "#fb9f3a"
             ],
             [
              0.8888888888888888,
              "#fdca26"
             ],
             [
              1,
              "#f0f921"
             ]
            ],
            "type": "heatmap"
           }
          ],
          "heatmapgl": [
           {
            "colorbar": {
             "outlinewidth": 0,
             "ticks": ""
            },
            "colorscale": [
             [
              0,
              "#0d0887"
             ],
             [
              0.1111111111111111,
              "#46039f"
             ],
             [
              0.2222222222222222,
              "#7201a8"
             ],
             [
              0.3333333333333333,
              "#9c179e"
             ],
             [
              0.4444444444444444,
              "#bd3786"
             ],
             [
              0.5555555555555556,
              "#d8576b"
             ],
             [
              0.6666666666666666,
              "#ed7953"
             ],
             [
              0.7777777777777778,
              "#fb9f3a"
             ],
             [
              0.8888888888888888,
              "#fdca26"
             ],
             [
              1,
              "#f0f921"
             ]
            ],
            "type": "heatmapgl"
           }
          ],
          "histogram": [
           {
            "marker": {
             "pattern": {
              "fillmode": "overlay",
              "size": 10,
              "solidity": 0.2
             }
            },
            "type": "histogram"
           }
          ],
          "histogram2d": [
           {
            "colorbar": {
             "outlinewidth": 0,
             "ticks": ""
            },
            "colorscale": [
             [
              0,
              "#0d0887"
             ],
             [
              0.1111111111111111,
              "#46039f"
             ],
             [
              0.2222222222222222,
              "#7201a8"
             ],
             [
              0.3333333333333333,
              "#9c179e"
             ],
             [
              0.4444444444444444,
              "#bd3786"
             ],
             [
              0.5555555555555556,
              "#d8576b"
             ],
             [
              0.6666666666666666,
              "#ed7953"
             ],
             [
              0.7777777777777778,
              "#fb9f3a"
             ],
             [
              0.8888888888888888,
              "#fdca26"
             ],
             [
              1,
              "#f0f921"
             ]
            ],
            "type": "histogram2d"
           }
          ],
          "histogram2dcontour": [
           {
            "colorbar": {
             "outlinewidth": 0,
             "ticks": ""
            },
            "colorscale": [
             [
              0,
              "#0d0887"
             ],
             [
              0.1111111111111111,
              "#46039f"
             ],
             [
              0.2222222222222222,
              "#7201a8"
             ],
             [
              0.3333333333333333,
              "#9c179e"
             ],
             [
              0.4444444444444444,
              "#bd3786"
             ],
             [
              0.5555555555555556,
              "#d8576b"
             ],
             [
              0.6666666666666666,
              "#ed7953"
             ],
             [
              0.7777777777777778,
              "#fb9f3a"
             ],
             [
              0.8888888888888888,
              "#fdca26"
             ],
             [
              1,
              "#f0f921"
             ]
            ],
            "type": "histogram2dcontour"
           }
          ],
          "mesh3d": [
           {
            "colorbar": {
             "outlinewidth": 0,
             "ticks": ""
            },
            "type": "mesh3d"
           }
          ],
          "parcoords": [
           {
            "line": {
             "colorbar": {
              "outlinewidth": 0,
              "ticks": ""
             }
            },
            "type": "parcoords"
           }
          ],
          "pie": [
           {
            "automargin": true,
            "type": "pie"
           }
          ],
          "scatter": [
           {
            "fillpattern": {
             "fillmode": "overlay",
             "size": 10,
             "solidity": 0.2
            },
            "type": "scatter"
           }
          ],
          "scatter3d": [
           {
            "line": {
             "colorbar": {
              "outlinewidth": 0,
              "ticks": ""
             }
            },
            "marker": {
             "colorbar": {
              "outlinewidth": 0,
              "ticks": ""
             }
            },
            "type": "scatter3d"
           }
          ],
          "scattercarpet": [
           {
            "marker": {
             "colorbar": {
              "outlinewidth": 0,
              "ticks": ""
             }
            },
            "type": "scattercarpet"
           }
          ],
          "scattergeo": [
           {
            "marker": {
             "colorbar": {
              "outlinewidth": 0,
              "ticks": ""
             }
            },
            "type": "scattergeo"
           }
          ],
          "scattergl": [
           {
            "marker": {
             "colorbar": {
              "outlinewidth": 0,
              "ticks": ""
             }
            },
            "type": "scattergl"
           }
          ],
          "scattermapbox": [
           {
            "marker": {
             "colorbar": {
              "outlinewidth": 0,
              "ticks": ""
             }
            },
            "type": "scattermapbox"
           }
          ],
          "scatterpolar": [
           {
            "marker": {
             "colorbar": {
              "outlinewidth": 0,
              "ticks": ""
             }
            },
            "type": "scatterpolar"
           }
          ],
          "scatterpolargl": [
           {
            "marker": {
             "colorbar": {
              "outlinewidth": 0,
              "ticks": ""
             }
            },
            "type": "scatterpolargl"
           }
          ],
          "scatterternary": [
           {
            "marker": {
             "colorbar": {
              "outlinewidth": 0,
              "ticks": ""
             }
            },
            "type": "scatterternary"
           }
          ],
          "surface": [
           {
            "colorbar": {
             "outlinewidth": 0,
             "ticks": ""
            },
            "colorscale": [
             [
              0,
              "#0d0887"
             ],
             [
              0.1111111111111111,
              "#46039f"
             ],
             [
              0.2222222222222222,
              "#7201a8"
             ],
             [
              0.3333333333333333,
              "#9c179e"
             ],
             [
              0.4444444444444444,
              "#bd3786"
             ],
             [
              0.5555555555555556,
              "#d8576b"
             ],
             [
              0.6666666666666666,
              "#ed7953"
             ],
             [
              0.7777777777777778,
              "#fb9f3a"
             ],
             [
              0.8888888888888888,
              "#fdca26"
             ],
             [
              1,
              "#f0f921"
             ]
            ],
            "type": "surface"
           }
          ],
          "table": [
           {
            "cells": {
             "fill": {
              "color": "#EBF0F8"
             },
             "line": {
              "color": "white"
             }
            },
            "header": {
             "fill": {
              "color": "#C8D4E3"
             },
             "line": {
              "color": "white"
             }
            },
            "type": "table"
           }
          ]
         },
         "layout": {
          "annotationdefaults": {
           "arrowcolor": "#2a3f5f",
           "arrowhead": 0,
           "arrowwidth": 1
          },
          "autotypenumbers": "strict",
          "coloraxis": {
           "colorbar": {
            "outlinewidth": 0,
            "ticks": ""
           }
          },
          "colorscale": {
           "diverging": [
            [
             0,
             "#8e0152"
            ],
            [
             0.1,
             "#c51b7d"
            ],
            [
             0.2,
             "#de77ae"
            ],
            [
             0.3,
             "#f1b6da"
            ],
            [
             0.4,
             "#fde0ef"
            ],
            [
             0.5,
             "#f7f7f7"
            ],
            [
             0.6,
             "#e6f5d0"
            ],
            [
             0.7,
             "#b8e186"
            ],
            [
             0.8,
             "#7fbc41"
            ],
            [
             0.9,
             "#4d9221"
            ],
            [
             1,
             "#276419"
            ]
           ],
           "sequential": [
            [
             0,
             "#0d0887"
            ],
            [
             0.1111111111111111,
             "#46039f"
            ],
            [
             0.2222222222222222,
             "#7201a8"
            ],
            [
             0.3333333333333333,
             "#9c179e"
            ],
            [
             0.4444444444444444,
             "#bd3786"
            ],
            [
             0.5555555555555556,
             "#d8576b"
            ],
            [
             0.6666666666666666,
             "#ed7953"
            ],
            [
             0.7777777777777778,
             "#fb9f3a"
            ],
            [
             0.8888888888888888,
             "#fdca26"
            ],
            [
             1,
             "#f0f921"
            ]
           ],
           "sequentialminus": [
            [
             0,
             "#0d0887"
            ],
            [
             0.1111111111111111,
             "#46039f"
            ],
            [
             0.2222222222222222,
             "#7201a8"
            ],
            [
             0.3333333333333333,
             "#9c179e"
            ],
            [
             0.4444444444444444,
             "#bd3786"
            ],
            [
             0.5555555555555556,
             "#d8576b"
            ],
            [
             0.6666666666666666,
             "#ed7953"
            ],
            [
             0.7777777777777778,
             "#fb9f3a"
            ],
            [
             0.8888888888888888,
             "#fdca26"
            ],
            [
             1,
             "#f0f921"
            ]
           ]
          },
          "colorway": [
           "#636efa",
           "#EF553B",
           "#00cc96",
           "#ab63fa",
           "#FFA15A",
           "#19d3f3",
           "#FF6692",
           "#B6E880",
           "#FF97FF",
           "#FECB52"
          ],
          "font": {
           "color": "#2a3f5f"
          },
          "geo": {
           "bgcolor": "white",
           "lakecolor": "white",
           "landcolor": "#E5ECF6",
           "showlakes": true,
           "showland": true,
           "subunitcolor": "white"
          },
          "hoverlabel": {
           "align": "left"
          },
          "hovermode": "closest",
          "mapbox": {
           "style": "light"
          },
          "paper_bgcolor": "white",
          "plot_bgcolor": "#E5ECF6",
          "polar": {
           "angularaxis": {
            "gridcolor": "white",
            "linecolor": "white",
            "ticks": ""
           },
           "bgcolor": "#E5ECF6",
           "radialaxis": {
            "gridcolor": "white",
            "linecolor": "white",
            "ticks": ""
           }
          },
          "scene": {
           "xaxis": {
            "backgroundcolor": "#E5ECF6",
            "gridcolor": "white",
            "gridwidth": 2,
            "linecolor": "white",
            "showbackground": true,
            "ticks": "",
            "zerolinecolor": "white"
           },
           "yaxis": {
            "backgroundcolor": "#E5ECF6",
            "gridcolor": "white",
            "gridwidth": 2,
            "linecolor": "white",
            "showbackground": true,
            "ticks": "",
            "zerolinecolor": "white"
           },
           "zaxis": {
            "backgroundcolor": "#E5ECF6",
            "gridcolor": "white",
            "gridwidth": 2,
            "linecolor": "white",
            "showbackground": true,
            "ticks": "",
            "zerolinecolor": "white"
           }
          },
          "shapedefaults": {
           "line": {
            "color": "#2a3f5f"
           }
          },
          "ternary": {
           "aaxis": {
            "gridcolor": "white",
            "linecolor": "white",
            "ticks": ""
           },
           "baxis": {
            "gridcolor": "white",
            "linecolor": "white",
            "ticks": ""
           },
           "bgcolor": "#E5ECF6",
           "caxis": {
            "gridcolor": "white",
            "linecolor": "white",
            "ticks": ""
           }
          },
          "title": {
           "x": 0.05
          },
          "xaxis": {
           "automargin": true,
           "gridcolor": "white",
           "linecolor": "white",
           "ticks": "",
           "title": {
            "standoff": 15
           },
           "zerolinecolor": "white",
           "zerolinewidth": 2
          },
          "yaxis": {
           "automargin": true,
           "gridcolor": "white",
           "linecolor": "white",
           "ticks": "",
           "title": {
            "standoff": 15
           },
           "zerolinecolor": "white",
           "zerolinewidth": 2
          }
         }
        },
        "width": 1000,
        "xaxis": {
         "anchor": "y",
         "domain": [
          0,
          0.45
         ]
        },
        "xaxis2": {
         "anchor": "y2",
         "domain": [
          0.55,
          1
         ]
        },
        "xaxis3": {
         "anchor": "y3",
         "domain": [
          0,
          0.45
         ]
        },
        "xaxis4": {
         "anchor": "y4",
         "domain": [
          0.55,
          1
         ]
        },
        "yaxis": {
         "anchor": "x",
         "domain": [
          0.625,
          1
         ]
        },
        "yaxis2": {
         "anchor": "x2",
         "domain": [
          0.625,
          1
         ]
        },
        "yaxis3": {
         "anchor": "x3",
         "domain": [
          0,
          0.375
         ]
        },
        "yaxis4": {
         "anchor": "x4",
         "domain": [
          0,
          0.375
         ]
        }
       }
      }
     },
     "metadata": {},
     "output_type": "display_data"
    },
    {
     "data": {
      "application/vnd.plotly.v1+json": {
       "config": {
        "plotlyServerURL": "https://plot.ly"
       },
       "data": [
        {
         "type": "scatter",
         "x": [
          "2023-12-31T00:00:00",
          "2022-12-31T00:00:00",
          "2021-12-31T00:00:00",
          "2020-12-31T00:00:00",
          "2019-12-31T00:00:00",
          "2018-12-31T00:00:00",
          "2017-12-31T00:00:00",
          "2016-12-31T00:00:00",
          "2015-12-31T00:00:00",
          "2014-12-31T00:00:00",
          "2013-12-31T00:00:00",
          "2012-12-31T00:00:00",
          "2011-12-31T00:00:00",
          "2010-12-31T00:00:00",
          "2009-12-31T00:00:00"
         ],
         "xaxis": "x",
         "y": [
          0.32158000797665776,
          0.2722443455198366,
          0.2712380170870035,
          0.26676932360866895,
          0.24247226624405704,
          0.2822877750103778,
          0.2889572109553493,
          0.23421974698484122,
          0.2149211902343603,
          0.18414524131709517,
          0.1786950839990839,
          0.1624922036568953,
          0.15942782294113977,
          0.1644719476786814,
          0.22594877241717393
         ],
         "yaxis": "y"
        },
        {
         "type": "scatter",
         "x": [
          "2023-12-31T00:00:00",
          "2022-12-31T00:00:00",
          "2021-12-31T00:00:00",
          "2020-12-31T00:00:00",
          "2019-12-31T00:00:00",
          "2018-12-31T00:00:00",
          "2017-12-31T00:00:00",
          "2016-12-31T00:00:00",
          "2015-12-31T00:00:00",
          "2014-12-31T00:00:00",
          "2013-12-31T00:00:00",
          "2012-12-31T00:00:00",
          "2011-12-31T00:00:00",
          "2010-12-31T00:00:00",
          "2009-12-31T00:00:00"
         ],
         "xaxis": "x2",
         "y": [
          0.06446398958836248,
          0.023955749927632043,
          0.0531650276306848,
          0.059562702235909815,
          0.052136592781693934,
          0.05370918084959181,
          0.023163060953939017,
          0.030878176520488326,
          0.02100026332618591,
          0.0020072169598556607,
          0.010036779069610789,
          0.01109542723960214,
          0.01792211572447346,
          0.041235299293192945,
          0.046121165080272884
         ],
         "yaxis": "y2"
        },
        {
         "type": "scatter",
         "x": [
          "2023-12-31T00:00:00",
          "2022-12-31T00:00:00",
          "2021-12-31T00:00:00",
          "2020-12-31T00:00:00",
          "2019-12-31T00:00:00",
          "2018-12-31T00:00:00",
          "2017-12-31T00:00:00",
          "2016-12-31T00:00:00",
          "2015-12-31T00:00:00",
          "2014-12-31T00:00:00",
          "2013-12-31T00:00:00",
          "2012-12-31T00:00:00",
          "2011-12-31T00:00:00",
          "2010-12-31T00:00:00",
          "2009-12-31T00:00:00"
         ],
         "xaxis": "x3",
         "y": [
          0.053221450212361014,
          -0.005323934626307513,
          0.0712969967390236,
          0.055484169675278056,
          0.04154864432668106,
          0.04355628199806282,
          0.017109976588723097,
          0.01748976505735256,
          0.005605085957190686,
          -0.002717636445647271,
          0.0036913791477494714,
          -0.000640120802284739,
          0.013119321371395305,
          0.03378596357450802,
          0.03684791045385841
         ],
         "yaxis": "y3"
        },
        {
         "type": "scatter",
         "x": [
          "2023-12-31T00:00:00",
          "2022-12-31T00:00:00",
          "2021-12-31T00:00:00",
          "2020-12-31T00:00:00",
          "2019-12-31T00:00:00",
          "2018-12-31T00:00:00",
          "2017-12-31T00:00:00",
          "2016-12-31T00:00:00",
          "2015-12-31T00:00:00",
          "2014-12-31T00:00:00",
          "2013-12-31T00:00:00",
          "2012-12-31T00:00:00",
          "2011-12-31T00:00:00",
          "2010-12-31T00:00:00",
          "2009-12-31T00:00:00"
         ],
         "xaxis": "x4",
         "y": [
          0.08276307227271772,
          0.006125849834531643,
          0.1076506866000795,
          0.09064850748598005,
          0.09410832478791833,
          0.056913311194133114,
          0.028296618057710207,
          0.09125511747132371,
          0.07792574201557387,
          0.055051871898962566,
          0.05158500276179827,
          0.0433312543085054,
          0.043038027319791256,
          0.06191160512655072,
          0.0640140528616365
         ],
         "yaxis": "y4"
        }
       ],
       "layout": {
        "annotations": [
         {
          "font": {
           "size": 16
          },
          "showarrow": false,
          "text": "Gross Margin Over Time",
          "x": 0.225,
          "xanchor": "center",
          "xref": "paper",
          "y": 1,
          "yanchor": "bottom",
          "yref": "paper"
         },
         {
          "font": {
           "size": 16
          },
          "showarrow": false,
          "text": "Operating Margin Over Time",
          "x": 0.775,
          "xanchor": "center",
          "xref": "paper",
          "y": 1,
          "yanchor": "bottom",
          "yref": "paper"
         },
         {
          "font": {
           "size": 16
          },
          "showarrow": false,
          "text": "Net Margin Over Time",
          "x": 0.225,
          "xanchor": "center",
          "xref": "paper",
          "y": 0.375,
          "yanchor": "bottom",
          "yref": "paper"
         },
         {
          "font": {
           "size": 16
          },
          "showarrow": false,
          "text": "EBITDA Margin Over Time",
          "x": 0.775,
          "xanchor": "center",
          "xref": "paper",
          "y": 0.375,
          "yanchor": "bottom",
          "yref": "paper"
         }
        ],
        "height": 800,
        "showlegend": false,
        "template": {
         "data": {
          "bar": [
           {
            "error_x": {
             "color": "#2a3f5f"
            },
            "error_y": {
             "color": "#2a3f5f"
            },
            "marker": {
             "line": {
              "color": "#E5ECF6",
              "width": 0.5
             },
             "pattern": {
              "fillmode": "overlay",
              "size": 10,
              "solidity": 0.2
             }
            },
            "type": "bar"
           }
          ],
          "barpolar": [
           {
            "marker": {
             "line": {
              "color": "#E5ECF6",
              "width": 0.5
             },
             "pattern": {
              "fillmode": "overlay",
              "size": 10,
              "solidity": 0.2
             }
            },
            "type": "barpolar"
           }
          ],
          "carpet": [
           {
            "aaxis": {
             "endlinecolor": "#2a3f5f",
             "gridcolor": "white",
             "linecolor": "white",
             "minorgridcolor": "white",
             "startlinecolor": "#2a3f5f"
            },
            "baxis": {
             "endlinecolor": "#2a3f5f",
             "gridcolor": "white",
             "linecolor": "white",
             "minorgridcolor": "white",
             "startlinecolor": "#2a3f5f"
            },
            "type": "carpet"
           }
          ],
          "choropleth": [
           {
            "colorbar": {
             "outlinewidth": 0,
             "ticks": ""
            },
            "type": "choropleth"
           }
          ],
          "contour": [
           {
            "colorbar": {
             "outlinewidth": 0,
             "ticks": ""
            },
            "colorscale": [
             [
              0,
              "#0d0887"
             ],
             [
              0.1111111111111111,
              "#46039f"
             ],
             [
              0.2222222222222222,
              "#7201a8"
             ],
             [
              0.3333333333333333,
              "#9c179e"
             ],
             [
              0.4444444444444444,
              "#bd3786"
             ],
             [
              0.5555555555555556,
              "#d8576b"
             ],
             [
              0.6666666666666666,
              "#ed7953"
             ],
             [
              0.7777777777777778,
              "#fb9f3a"
             ],
             [
              0.8888888888888888,
              "#fdca26"
             ],
             [
              1,
              "#f0f921"
             ]
            ],
            "type": "contour"
           }
          ],
          "contourcarpet": [
           {
            "colorbar": {
             "outlinewidth": 0,
             "ticks": ""
            },
            "type": "contourcarpet"
           }
          ],
          "heatmap": [
           {
            "colorbar": {
             "outlinewidth": 0,
             "ticks": ""
            },
            "colorscale": [
             [
              0,
              "#0d0887"
             ],
             [
              0.1111111111111111,
              "#46039f"
             ],
             [
              0.2222222222222222,
              "#7201a8"
             ],
             [
              0.3333333333333333,
              "#9c179e"
             ],
             [
              0.4444444444444444,
              "#bd3786"
             ],
             [
              0.5555555555555556,
              "#d8576b"
             ],
             [
              0.6666666666666666,
              "#ed7953"
             ],
             [
              0.7777777777777778,
              "#fb9f3a"
             ],
             [
              0.8888888888888888,
              "#fdca26"
             ],
             [
              1,
              "#f0f921"
             ]
            ],
            "type": "heatmap"
           }
          ],
          "heatmapgl": [
           {
            "colorbar": {
             "outlinewidth": 0,
             "ticks": ""
            },
            "colorscale": [
             [
              0,
              "#0d0887"
             ],
             [
              0.1111111111111111,
              "#46039f"
             ],
             [
              0.2222222222222222,
              "#7201a8"
             ],
             [
              0.3333333333333333,
              "#9c179e"
             ],
             [
              0.4444444444444444,
              "#bd3786"
             ],
             [
              0.5555555555555556,
              "#d8576b"
             ],
             [
              0.6666666666666666,
              "#ed7953"
             ],
             [
              0.7777777777777778,
              "#fb9f3a"
             ],
             [
              0.8888888888888888,
              "#fdca26"
             ],
             [
              1,
              "#f0f921"
             ]
            ],
            "type": "heatmapgl"
           }
          ],
          "histogram": [
           {
            "marker": {
             "pattern": {
              "fillmode": "overlay",
              "size": 10,
              "solidity": 0.2
             }
            },
            "type": "histogram"
           }
          ],
          "histogram2d": [
           {
            "colorbar": {
             "outlinewidth": 0,
             "ticks": ""
            },
            "colorscale": [
             [
              0,
              "#0d0887"
             ],
             [
              0.1111111111111111,
              "#46039f"
             ],
             [
              0.2222222222222222,
              "#7201a8"
             ],
             [
              0.3333333333333333,
              "#9c179e"
             ],
             [
              0.4444444444444444,
              "#bd3786"
             ],
             [
              0.5555555555555556,
              "#d8576b"
             ],
             [
              0.6666666666666666,
              "#ed7953"
             ],
             [
              0.7777777777777778,
              "#fb9f3a"
             ],
             [
              0.8888888888888888,
              "#fdca26"
             ],
             [
              1,
              "#f0f921"
             ]
            ],
            "type": "histogram2d"
           }
          ],
          "histogram2dcontour": [
           {
            "colorbar": {
             "outlinewidth": 0,
             "ticks": ""
            },
            "colorscale": [
             [
              0,
              "#0d0887"
             ],
             [
              0.1111111111111111,
              "#46039f"
             ],
             [
              0.2222222222222222,
              "#7201a8"
             ],
             [
              0.3333333333333333,
              "#9c179e"
             ],
             [
              0.4444444444444444,
              "#bd3786"
             ],
             [
              0.5555555555555556,
              "#d8576b"
             ],
             [
              0.6666666666666666,
              "#ed7953"
             ],
             [
              0.7777777777777778,
              "#fb9f3a"
             ],
             [
              0.8888888888888888,
              "#fdca26"
             ],
             [
              1,
              "#f0f921"
             ]
            ],
            "type": "histogram2dcontour"
           }
          ],
          "mesh3d": [
           {
            "colorbar": {
             "outlinewidth": 0,
             "ticks": ""
            },
            "type": "mesh3d"
           }
          ],
          "parcoords": [
           {
            "line": {
             "colorbar": {
              "outlinewidth": 0,
              "ticks": ""
             }
            },
            "type": "parcoords"
           }
          ],
          "pie": [
           {
            "automargin": true,
            "type": "pie"
           }
          ],
          "scatter": [
           {
            "fillpattern": {
             "fillmode": "overlay",
             "size": 10,
             "solidity": 0.2
            },
            "type": "scatter"
           }
          ],
          "scatter3d": [
           {
            "line": {
             "colorbar": {
              "outlinewidth": 0,
              "ticks": ""
             }
            },
            "marker": {
             "colorbar": {
              "outlinewidth": 0,
              "ticks": ""
             }
            },
            "type": "scatter3d"
           }
          ],
          "scattercarpet": [
           {
            "marker": {
             "colorbar": {
              "outlinewidth": 0,
              "ticks": ""
             }
            },
            "type": "scattercarpet"
           }
          ],
          "scattergeo": [
           {
            "marker": {
             "colorbar": {
              "outlinewidth": 0,
              "ticks": ""
             }
            },
            "type": "scattergeo"
           }
          ],
          "scattergl": [
           {
            "marker": {
             "colorbar": {
              "outlinewidth": 0,
              "ticks": ""
             }
            },
            "type": "scattergl"
           }
          ],
          "scattermapbox": [
           {
            "marker": {
             "colorbar": {
              "outlinewidth": 0,
              "ticks": ""
             }
            },
            "type": "scattermapbox"
           }
          ],
          "scatterpolar": [
           {
            "marker": {
             "colorbar": {
              "outlinewidth": 0,
              "ticks": ""
             }
            },
            "type": "scatterpolar"
           }
          ],
          "scatterpolargl": [
           {
            "marker": {
             "colorbar": {
              "outlinewidth": 0,
              "ticks": ""
             }
            },
            "type": "scatterpolargl"
           }
          ],
          "scatterternary": [
           {
            "marker": {
             "colorbar": {
              "outlinewidth": 0,
              "ticks": ""
             }
            },
            "type": "scatterternary"
           }
          ],
          "surface": [
           {
            "colorbar": {
             "outlinewidth": 0,
             "ticks": ""
            },
            "colorscale": [
             [
              0,
              "#0d0887"
             ],
             [
              0.1111111111111111,
              "#46039f"
             ],
             [
              0.2222222222222222,
              "#7201a8"
             ],
             [
              0.3333333333333333,
              "#9c179e"
             ],
             [
              0.4444444444444444,
              "#bd3786"
             ],
             [
              0.5555555555555556,
              "#d8576b"
             ],
             [
              0.6666666666666666,
              "#ed7953"
             ],
             [
              0.7777777777777778,
              "#fb9f3a"
             ],
             [
              0.8888888888888888,
              "#fdca26"
             ],
             [
              1,
              "#f0f921"
             ]
            ],
            "type": "surface"
           }
          ],
          "table": [
           {
            "cells": {
             "fill": {
              "color": "#EBF0F8"
             },
             "line": {
              "color": "white"
             }
            },
            "header": {
             "fill": {
              "color": "#C8D4E3"
             },
             "line": {
              "color": "white"
             }
            },
            "type": "table"
           }
          ]
         },
         "layout": {
          "annotationdefaults": {
           "arrowcolor": "#2a3f5f",
           "arrowhead": 0,
           "arrowwidth": 1
          },
          "autotypenumbers": "strict",
          "coloraxis": {
           "colorbar": {
            "outlinewidth": 0,
            "ticks": ""
           }
          },
          "colorscale": {
           "diverging": [
            [
             0,
             "#8e0152"
            ],
            [
             0.1,
             "#c51b7d"
            ],
            [
             0.2,
             "#de77ae"
            ],
            [
             0.3,
             "#f1b6da"
            ],
            [
             0.4,
             "#fde0ef"
            ],
            [
             0.5,
             "#f7f7f7"
            ],
            [
             0.6,
             "#e6f5d0"
            ],
            [
             0.7,
             "#b8e186"
            ],
            [
             0.8,
             "#7fbc41"
            ],
            [
             0.9,
             "#4d9221"
            ],
            [
             1,
             "#276419"
            ]
           ],
           "sequential": [
            [
             0,
             "#0d0887"
            ],
            [
             0.1111111111111111,
             "#46039f"
            ],
            [
             0.2222222222222222,
             "#7201a8"
            ],
            [
             0.3333333333333333,
             "#9c179e"
            ],
            [
             0.4444444444444444,
             "#bd3786"
            ],
            [
             0.5555555555555556,
             "#d8576b"
            ],
            [
             0.6666666666666666,
             "#ed7953"
            ],
            [
             0.7777777777777778,
             "#fb9f3a"
            ],
            [
             0.8888888888888888,
             "#fdca26"
            ],
            [
             1,
             "#f0f921"
            ]
           ],
           "sequentialminus": [
            [
             0,
             "#0d0887"
            ],
            [
             0.1111111111111111,
             "#46039f"
            ],
            [
             0.2222222222222222,
             "#7201a8"
            ],
            [
             0.3333333333333333,
             "#9c179e"
            ],
            [
             0.4444444444444444,
             "#bd3786"
            ],
            [
             0.5555555555555556,
             "#d8576b"
            ],
            [
             0.6666666666666666,
             "#ed7953"
            ],
            [
             0.7777777777777778,
             "#fb9f3a"
            ],
            [
             0.8888888888888888,
             "#fdca26"
            ],
            [
             1,
             "#f0f921"
            ]
           ]
          },
          "colorway": [
           "#636efa",
           "#EF553B",
           "#00cc96",
           "#ab63fa",
           "#FFA15A",
           "#19d3f3",
           "#FF6692",
           "#B6E880",
           "#FF97FF",
           "#FECB52"
          ],
          "font": {
           "color": "#2a3f5f"
          },
          "geo": {
           "bgcolor": "white",
           "lakecolor": "white",
           "landcolor": "#E5ECF6",
           "showlakes": true,
           "showland": true,
           "subunitcolor": "white"
          },
          "hoverlabel": {
           "align": "left"
          },
          "hovermode": "closest",
          "mapbox": {
           "style": "light"
          },
          "paper_bgcolor": "white",
          "plot_bgcolor": "#E5ECF6",
          "polar": {
           "angularaxis": {
            "gridcolor": "white",
            "linecolor": "white",
            "ticks": ""
           },
           "bgcolor": "#E5ECF6",
           "radialaxis": {
            "gridcolor": "white",
            "linecolor": "white",
            "ticks": ""
           }
          },
          "scene": {
           "xaxis": {
            "backgroundcolor": "#E5ECF6",
            "gridcolor": "white",
            "gridwidth": 2,
            "linecolor": "white",
            "showbackground": true,
            "ticks": "",
            "zerolinecolor": "white"
           },
           "yaxis": {
            "backgroundcolor": "#E5ECF6",
            "gridcolor": "white",
            "gridwidth": 2,
            "linecolor": "white",
            "showbackground": true,
            "ticks": "",
            "zerolinecolor": "white"
           },
           "zaxis": {
            "backgroundcolor": "#E5ECF6",
            "gridcolor": "white",
            "gridwidth": 2,
            "linecolor": "white",
            "showbackground": true,
            "ticks": "",
            "zerolinecolor": "white"
           }
          },
          "shapedefaults": {
           "line": {
            "color": "#2a3f5f"
           }
          },
          "ternary": {
           "aaxis": {
            "gridcolor": "white",
            "linecolor": "white",
            "ticks": ""
           },
           "baxis": {
            "gridcolor": "white",
            "linecolor": "white",
            "ticks": ""
           },
           "bgcolor": "#E5ECF6",
           "caxis": {
            "gridcolor": "white",
            "linecolor": "white",
            "ticks": ""
           }
          },
          "title": {
           "x": 0.05
          },
          "xaxis": {
           "automargin": true,
           "gridcolor": "white",
           "linecolor": "white",
           "ticks": "",
           "title": {
            "standoff": 15
           },
           "zerolinecolor": "white",
           "zerolinewidth": 2
          },
          "yaxis": {
           "automargin": true,
           "gridcolor": "white",
           "linecolor": "white",
           "ticks": "",
           "title": {
            "standoff": 15
           },
           "zerolinecolor": "white",
           "zerolinewidth": 2
          }
         }
        },
        "width": 1000,
        "xaxis": {
         "anchor": "y",
         "domain": [
          0,
          0.45
         ]
        },
        "xaxis2": {
         "anchor": "y2",
         "domain": [
          0.55,
          1
         ]
        },
        "xaxis3": {
         "anchor": "y3",
         "domain": [
          0,
          0.45
         ]
        },
        "xaxis4": {
         "anchor": "y4",
         "domain": [
          0.55,
          1
         ]
        },
        "yaxis": {
         "anchor": "x",
         "domain": [
          0.625,
          1
         ]
        },
        "yaxis2": {
         "anchor": "x2",
         "domain": [
          0.625,
          1
         ]
        },
        "yaxis3": {
         "anchor": "x3",
         "domain": [
          0,
          0.375
         ]
        },
        "yaxis4": {
         "anchor": "x4",
         "domain": [
          0,
          0.375
         ]
        }
       }
      }
     },
     "metadata": {},
     "output_type": "display_data"
    },
    {
     "data": {
      "application/vnd.plotly.v1+json": {
       "config": {
        "plotlyServerURL": "https://plot.ly"
       },
       "data": [
        {
         "type": "scatter",
         "x": [
          "2023-12-31T00:00:00",
          "2022-12-31T00:00:00",
          "2021-12-31T00:00:00",
          "2020-12-31T00:00:00",
          "2019-12-31T00:00:00",
          "2018-12-31T00:00:00",
          "2017-12-31T00:00:00",
          "2016-12-31T00:00:00",
          "2015-12-31T00:00:00"
         ],
         "xaxis": "x",
         "y": [
          0.5636456461763522,
          0.5513244856530349,
          0.5693980290098084,
          0.5357837470620785,
          0.5558054331910266,
          0.5647607422945643,
          0.5888051959767263,
          0.6107541651896491,
          0.6244249156542959
         ],
         "yaxis": "y"
        },
        {
         "type": "scatter",
         "x": [
          "2023-12-31T00:00:00",
          "2022-12-31T00:00:00",
          "2021-12-31T00:00:00",
          "2020-12-31T00:00:00",
          "2019-12-31T00:00:00",
          "2018-12-31T00:00:00",
          "2017-12-31T00:00:00",
          "2016-12-31T00:00:00",
          "2015-12-31T00:00:00"
         ],
         "xaxis": "x2",
         "y": [
          0.27586489025032807,
          0.26607745334703264,
          0.3055228868524319,
          0.22585151785763202,
          0.2114891540063142,
          0.20117089000796676,
          0.2361463172612873,
          0.26271712158808935,
          0.25817119844243824
         ],
         "yaxis": "y2"
        },
        {
         "type": "scatter",
         "x": [
          "2023-12-31T00:00:00",
          "2022-12-31T00:00:00",
          "2021-12-31T00:00:00",
          "2020-12-31T00:00:00",
          "2019-12-31T00:00:00",
          "2018-12-31T00:00:00",
          "2017-12-31T00:00:00",
          "2016-12-31T00:00:00",
          "2015-12-31T00:00:00"
         ],
         "xaxis": "x3",
         "y": [
          0.241508186634987,
          0.21321179327287143,
          0.2951167728237792,
          0.22061941520980458,
          0.2121811228430034,
          0.22464716157843576,
          0.11422128005051645,
          0.2157701169797944,
          0.21800530744509194
         ],
         "yaxis": "y3"
        },
        {
         "type": "scatter",
         "x": [
          "2023-12-31T00:00:00",
          "2022-12-31T00:00:00",
          "2021-12-31T00:00:00",
          "2020-12-31T00:00:00",
          "2019-12-31T00:00:00",
          "2018-12-31T00:00:00",
          "2017-12-31T00:00:00",
          "2016-12-31T00:00:00",
          "2015-12-31T00:00:00"
         ],
         "xaxis": "x4",
         "y": [
          0.3206287492759173,
          0.3247060747514034,
          0.40180952270054376,
          0.33920461082469994,
          0.3052447530845129,
          0.3325415329742214,
          0.34759821388300033,
          0.3307780928748671,
          0.3256877675392391
         ],
         "yaxis": "y4"
        }
       ],
       "layout": {
        "annotations": [
         {
          "font": {
           "size": 16
          },
          "showarrow": false,
          "text": "Gross Margin Over Time",
          "x": 0.225,
          "xanchor": "center",
          "xref": "paper",
          "y": 1,
          "yanchor": "bottom",
          "yref": "paper"
         },
         {
          "font": {
           "size": 16
          },
          "showarrow": false,
          "text": "Operating Margin Over Time",
          "x": 0.775,
          "xanchor": "center",
          "xref": "paper",
          "y": 1,
          "yanchor": "bottom",
          "yref": "paper"
         },
         {
          "font": {
           "size": 16
          },
          "showarrow": false,
          "text": "Net Margin Over Time",
          "x": 0.225,
          "xanchor": "center",
          "xref": "paper",
          "y": 0.375,
          "yanchor": "bottom",
          "yref": "paper"
         },
         {
          "font": {
           "size": 16
          },
          "showarrow": false,
          "text": "EBITDA Margin Over Time",
          "x": 0.775,
          "xanchor": "center",
          "xref": "paper",
          "y": 0.375,
          "yanchor": "bottom",
          "yref": "paper"
         }
        ],
        "height": 800,
        "showlegend": false,
        "template": {
         "data": {
          "bar": [
           {
            "error_x": {
             "color": "#2a3f5f"
            },
            "error_y": {
             "color": "#2a3f5f"
            },
            "marker": {
             "line": {
              "color": "#E5ECF6",
              "width": 0.5
             },
             "pattern": {
              "fillmode": "overlay",
              "size": 10,
              "solidity": 0.2
             }
            },
            "type": "bar"
           }
          ],
          "barpolar": [
           {
            "marker": {
             "line": {
              "color": "#E5ECF6",
              "width": 0.5
             },
             "pattern": {
              "fillmode": "overlay",
              "size": 10,
              "solidity": 0.2
             }
            },
            "type": "barpolar"
           }
          ],
          "carpet": [
           {
            "aaxis": {
             "endlinecolor": "#2a3f5f",
             "gridcolor": "white",
             "linecolor": "white",
             "minorgridcolor": "white",
             "startlinecolor": "#2a3f5f"
            },
            "baxis": {
             "endlinecolor": "#2a3f5f",
             "gridcolor": "white",
             "linecolor": "white",
             "minorgridcolor": "white",
             "startlinecolor": "#2a3f5f"
            },
            "type": "carpet"
           }
          ],
          "choropleth": [
           {
            "colorbar": {
             "outlinewidth": 0,
             "ticks": ""
            },
            "type": "choropleth"
           }
          ],
          "contour": [
           {
            "colorbar": {
             "outlinewidth": 0,
             "ticks": ""
            },
            "colorscale": [
             [
              0,
              "#0d0887"
             ],
             [
              0.1111111111111111,
              "#46039f"
             ],
             [
              0.2222222222222222,
              "#7201a8"
             ],
             [
              0.3333333333333333,
              "#9c179e"
             ],
             [
              0.4444444444444444,
              "#bd3786"
             ],
             [
              0.5555555555555556,
              "#d8576b"
             ],
             [
              0.6666666666666666,
              "#ed7953"
             ],
             [
              0.7777777777777778,
              "#fb9f3a"
             ],
             [
              0.8888888888888888,
              "#fdca26"
             ],
             [
              1,
              "#f0f921"
             ]
            ],
            "type": "contour"
           }
          ],
          "contourcarpet": [
           {
            "colorbar": {
             "outlinewidth": 0,
             "ticks": ""
            },
            "type": "contourcarpet"
           }
          ],
          "heatmap": [
           {
            "colorbar": {
             "outlinewidth": 0,
             "ticks": ""
            },
            "colorscale": [
             [
              0,
              "#0d0887"
             ],
             [
              0.1111111111111111,
              "#46039f"
             ],
             [
              0.2222222222222222,
              "#7201a8"
             ],
             [
              0.3333333333333333,
              "#9c179e"
             ],
             [
              0.4444444444444444,
              "#bd3786"
             ],
             [
              0.5555555555555556,
              "#d8576b"
             ],
             [
              0.6666666666666666,
              "#ed7953"
             ],
             [
              0.7777777777777778,
              "#fb9f3a"
             ],
             [
              0.8888888888888888,
              "#fdca26"
             ],
             [
              1,
              "#f0f921"
             ]
            ],
            "type": "heatmap"
           }
          ],
          "heatmapgl": [
           {
            "colorbar": {
             "outlinewidth": 0,
             "ticks": ""
            },
            "colorscale": [
             [
              0,
              "#0d0887"
             ],
             [
              0.1111111111111111,
              "#46039f"
             ],
             [
              0.2222222222222222,
              "#7201a8"
             ],
             [
              0.3333333333333333,
              "#9c179e"
             ],
             [
              0.4444444444444444,
              "#bd3786"
             ],
             [
              0.5555555555555556,
              "#d8576b"
             ],
             [
              0.6666666666666666,
              "#ed7953"
             ],
             [
              0.7777777777777778,
              "#fb9f3a"
             ],
             [
              0.8888888888888888,
              "#fdca26"
             ],
             [
              1,
              "#f0f921"
             ]
            ],
            "type": "heatmapgl"
           }
          ],
          "histogram": [
           {
            "marker": {
             "pattern": {
              "fillmode": "overlay",
              "size": 10,
              "solidity": 0.2
             }
            },
            "type": "histogram"
           }
          ],
          "histogram2d": [
           {
            "colorbar": {
             "outlinewidth": 0,
             "ticks": ""
            },
            "colorscale": [
             [
              0,
              "#0d0887"
             ],
             [
              0.1111111111111111,
              "#46039f"
             ],
             [
              0.2222222222222222,
              "#7201a8"
             ],
             [
              0.3333333333333333,
              "#9c179e"
             ],
             [
              0.4444444444444444,
              "#bd3786"
             ],
             [
              0.5555555555555556,
              "#d8576b"
             ],
             [
              0.6666666666666666,
              "#ed7953"
             ],
             [
              0.7777777777777778,
              "#fb9f3a"
             ],
             [
              0.8888888888888888,
              "#fdca26"
             ],
             [
              1,
              "#f0f921"
             ]
            ],
            "type": "histogram2d"
           }
          ],
          "histogram2dcontour": [
           {
            "colorbar": {
             "outlinewidth": 0,
             "ticks": ""
            },
            "colorscale": [
             [
              0,
              "#0d0887"
             ],
             [
              0.1111111111111111,
              "#46039f"
             ],
             [
              0.2222222222222222,
              "#7201a8"
             ],
             [
              0.3333333333333333,
              "#9c179e"
             ],
             [
              0.4444444444444444,
              "#bd3786"
             ],
             [
              0.5555555555555556,
              "#d8576b"
             ],
             [
              0.6666666666666666,
              "#ed7953"
             ],
             [
              0.7777777777777778,
              "#fb9f3a"
             ],
             [
              0.8888888888888888,
              "#fdca26"
             ],
             [
              1,
              "#f0f921"
             ]
            ],
            "type": "histogram2dcontour"
           }
          ],
          "mesh3d": [
           {
            "colorbar": {
             "outlinewidth": 0,
             "ticks": ""
            },
            "type": "mesh3d"
           }
          ],
          "parcoords": [
           {
            "line": {
             "colorbar": {
              "outlinewidth": 0,
              "ticks": ""
             }
            },
            "type": "parcoords"
           }
          ],
          "pie": [
           {
            "automargin": true,
            "type": "pie"
           }
          ],
          "scatter": [
           {
            "fillpattern": {
             "fillmode": "overlay",
             "size": 10,
             "solidity": 0.2
            },
            "type": "scatter"
           }
          ],
          "scatter3d": [
           {
            "line": {
             "colorbar": {
              "outlinewidth": 0,
              "ticks": ""
             }
            },
            "marker": {
             "colorbar": {
              "outlinewidth": 0,
              "ticks": ""
             }
            },
            "type": "scatter3d"
           }
          ],
          "scattercarpet": [
           {
            "marker": {
             "colorbar": {
              "outlinewidth": 0,
              "ticks": ""
             }
            },
            "type": "scattercarpet"
           }
          ],
          "scattergeo": [
           {
            "marker": {
             "colorbar": {
              "outlinewidth": 0,
              "ticks": ""
             }
            },
            "type": "scattergeo"
           }
          ],
          "scattergl": [
           {
            "marker": {
             "colorbar": {
              "outlinewidth": 0,
              "ticks": ""
             }
            },
            "type": "scattergl"
           }
          ],
          "scattermapbox": [
           {
            "marker": {
             "colorbar": {
              "outlinewidth": 0,
              "ticks": ""
             }
            },
            "type": "scattermapbox"
           }
          ],
          "scatterpolar": [
           {
            "marker": {
             "colorbar": {
              "outlinewidth": 0,
              "ticks": ""
             }
            },
            "type": "scatterpolar"
           }
          ],
          "scatterpolargl": [
           {
            "marker": {
             "colorbar": {
              "outlinewidth": 0,
              "ticks": ""
             }
            },
            "type": "scatterpolargl"
           }
          ],
          "scatterternary": [
           {
            "marker": {
             "colorbar": {
              "outlinewidth": 0,
              "ticks": ""
             }
            },
            "type": "scatterternary"
           }
          ],
          "surface": [
           {
            "colorbar": {
             "outlinewidth": 0,
             "ticks": ""
            },
            "colorscale": [
             [
              0,
              "#0d0887"
             ],
             [
              0.1111111111111111,
              "#46039f"
             ],
             [
              0.2222222222222222,
              "#7201a8"
             ],
             [
              0.3333333333333333,
              "#9c179e"
             ],
             [
              0.4444444444444444,
              "#bd3786"
             ],
             [
              0.5555555555555556,
              "#d8576b"
             ],
             [
              0.6666666666666666,
              "#ed7953"
             ],
             [
              0.7777777777777778,
              "#fb9f3a"
             ],
             [
              0.8888888888888888,
              "#fdca26"
             ],
             [
              1,
              "#f0f921"
             ]
            ],
            "type": "surface"
           }
          ],
          "table": [
           {
            "cells": {
             "fill": {
              "color": "#EBF0F8"
             },
             "line": {
              "color": "white"
             }
            },
            "header": {
             "fill": {
              "color": "#C8D4E3"
             },
             "line": {
              "color": "white"
             }
            },
            "type": "table"
           }
          ]
         },
         "layout": {
          "annotationdefaults": {
           "arrowcolor": "#2a3f5f",
           "arrowhead": 0,
           "arrowwidth": 1
          },
          "autotypenumbers": "strict",
          "coloraxis": {
           "colorbar": {
            "outlinewidth": 0,
            "ticks": ""
           }
          },
          "colorscale": {
           "diverging": [
            [
             0,
             "#8e0152"
            ],
            [
             0.1,
             "#c51b7d"
            ],
            [
             0.2,
             "#de77ae"
            ],
            [
             0.3,
             "#f1b6da"
            ],
            [
             0.4,
             "#fde0ef"
            ],
            [
             0.5,
             "#f7f7f7"
            ],
            [
             0.6,
             "#e6f5d0"
            ],
            [
             0.7,
             "#b8e186"
            ],
            [
             0.8,
             "#7fbc41"
            ],
            [
             0.9,
             "#4d9221"
            ],
            [
             1,
             "#276419"
            ]
           ],
           "sequential": [
            [
             0,
             "#0d0887"
            ],
            [
             0.1111111111111111,
             "#46039f"
            ],
            [
             0.2222222222222222,
             "#7201a8"
            ],
            [
             0.3333333333333333,
             "#9c179e"
            ],
            [
             0.4444444444444444,
             "#bd3786"
            ],
            [
             0.5555555555555556,
             "#d8576b"
            ],
            [
             0.6666666666666666,
             "#ed7953"
            ],
            [
             0.7777777777777778,
             "#fb9f3a"
            ],
            [
             0.8888888888888888,
             "#fdca26"
            ],
            [
             1,
             "#f0f921"
            ]
           ],
           "sequentialminus": [
            [
             0,
             "#0d0887"
            ],
            [
             0.1111111111111111,
             "#46039f"
            ],
            [
             0.2222222222222222,
             "#7201a8"
            ],
            [
             0.3333333333333333,
             "#9c179e"
            ],
            [
             0.4444444444444444,
             "#bd3786"
            ],
            [
             0.5555555555555556,
             "#d8576b"
            ],
            [
             0.6666666666666666,
             "#ed7953"
            ],
            [
             0.7777777777777778,
             "#fb9f3a"
            ],
            [
             0.8888888888888888,
             "#fdca26"
            ],
            [
             1,
             "#f0f921"
            ]
           ]
          },
          "colorway": [
           "#636efa",
           "#EF553B",
           "#00cc96",
           "#ab63fa",
           "#FFA15A",
           "#19d3f3",
           "#FF6692",
           "#B6E880",
           "#FF97FF",
           "#FECB52"
          ],
          "font": {
           "color": "#2a3f5f"
          },
          "geo": {
           "bgcolor": "white",
           "lakecolor": "white",
           "landcolor": "#E5ECF6",
           "showlakes": true,
           "showland": true,
           "subunitcolor": "white"
          },
          "hoverlabel": {
           "align": "left"
          },
          "hovermode": "closest",
          "mapbox": {
           "style": "light"
          },
          "paper_bgcolor": "white",
          "plot_bgcolor": "#E5ECF6",
          "polar": {
           "angularaxis": {
            "gridcolor": "white",
            "linecolor": "white",
            "ticks": ""
           },
           "bgcolor": "#E5ECF6",
           "radialaxis": {
            "gridcolor": "white",
            "linecolor": "white",
            "ticks": ""
           }
          },
          "scene": {
           "xaxis": {
            "backgroundcolor": "#E5ECF6",
            "gridcolor": "white",
            "gridwidth": 2,
            "linecolor": "white",
            "showbackground": true,
            "ticks": "",
            "zerolinecolor": "white"
           },
           "yaxis": {
            "backgroundcolor": "#E5ECF6",
            "gridcolor": "white",
            "gridwidth": 2,
            "linecolor": "white",
            "showbackground": true,
            "ticks": "",
            "zerolinecolor": "white"
           },
           "zaxis": {
            "backgroundcolor": "#E5ECF6",
            "gridcolor": "white",
            "gridwidth": 2,
            "linecolor": "white",
            "showbackground": true,
            "ticks": "",
            "zerolinecolor": "white"
           }
          },
          "shapedefaults": {
           "line": {
            "color": "#2a3f5f"
           }
          },
          "ternary": {
           "aaxis": {
            "gridcolor": "white",
            "linecolor": "white",
            "ticks": ""
           },
           "baxis": {
            "gridcolor": "white",
            "linecolor": "white",
            "ticks": ""
           },
           "bgcolor": "#E5ECF6",
           "caxis": {
            "gridcolor": "white",
            "linecolor": "white",
            "ticks": ""
           }
          },
          "title": {
           "x": 0.05
          },
          "xaxis": {
           "automargin": true,
           "gridcolor": "white",
           "linecolor": "white",
           "ticks": "",
           "title": {
            "standoff": 15
           },
           "zerolinecolor": "white",
           "zerolinewidth": 2
          },
          "yaxis": {
           "automargin": true,
           "gridcolor": "white",
           "linecolor": "white",
           "ticks": "",
           "title": {
            "standoff": 15
           },
           "zerolinecolor": "white",
           "zerolinewidth": 2
          }
         }
        },
        "width": 1000,
        "xaxis": {
         "anchor": "y",
         "domain": [
          0,
          0.45
         ]
        },
        "xaxis2": {
         "anchor": "y2",
         "domain": [
          0.55,
          1
         ]
        },
        "xaxis3": {
         "anchor": "y3",
         "domain": [
          0,
          0.45
         ]
        },
        "xaxis4": {
         "anchor": "y4",
         "domain": [
          0.55,
          1
         ]
        },
        "yaxis": {
         "anchor": "x",
         "domain": [
          0.625,
          1
         ]
        },
        "yaxis2": {
         "anchor": "x2",
         "domain": [
          0.625,
          1
         ]
        },
        "yaxis3": {
         "anchor": "x3",
         "domain": [
          0,
          0.375
         ]
        },
        "yaxis4": {
         "anchor": "x4",
         "domain": [
          0,
          0.375
         ]
        }
       }
      }
     },
     "metadata": {},
     "output_type": "display_data"
    },
    {
     "data": {
      "application/vnd.plotly.v1+json": {
       "config": {
        "plotlyServerURL": "https://plot.ly"
       },
       "data": [
        {
         "type": "scatter",
         "x": [
          "2023-06-30T00:00:00",
          "2022-06-30T00:00:00",
          "2021-06-30T00:00:00",
          "2020-06-30T00:00:00",
          "2019-06-30T00:00:00",
          "2018-06-30T00:00:00",
          "2017-06-30T00:00:00",
          "2016-06-30T00:00:00",
          "2015-06-30T00:00:00",
          "2014-06-30T00:00:00",
          "2013-06-30T00:00:00",
          "2012-06-30T00:00:00",
          "2011-06-30T00:00:00",
          "2010-06-30T00:00:00"
         ],
         "xaxis": "x",
         "y": [
          0.6963246196608295,
          0.6915541867022931,
          0.6981968951885064,
          0.6899283289324784,
          0.6715494554435402,
          0.6715692675010725,
          0.6452247569146017,
          0.6403887925927552,
          0.646954477452447,
          0.6881600313244963,
          0.7381469254582589,
          0.762218032364391,
          0.777290079064381,
          0.8016292170795724
         ],
         "yaxis": "y"
        },
        {
         "type": "scatter",
         "x": [
          "2023-06-30T00:00:00",
          "2022-06-30T00:00:00",
          "2021-06-30T00:00:00",
          "2020-06-30T00:00:00",
          "2019-06-30T00:00:00",
          "2018-06-30T00:00:00",
          "2017-06-30T00:00:00",
          "2016-06-30T00:00:00",
          "2015-06-30T00:00:00",
          "2014-06-30T00:00:00",
          "2013-06-30T00:00:00",
          "2012-06-30T00:00:00",
          "2011-06-30T00:00:00",
          "2010-06-30T00:00:00"
         ],
         "xaxis": "x2",
         "y": [
          0.42204656085665104,
          0.4251870133446196,
          0.4213431684504869,
          0.3769243361351715,
          0.3478602372565691,
          0.32696648075954554,
          0.3005560675565128,
          0.28608728086534874,
          0.19406924556529173,
          0.3196826091462923,
          0.3437937545761667,
          0.2951995984970769,
          0.38833049769097694,
          0.38566673068305485
         ],
         "yaxis": "y2"
        },
        {
         "type": "scatter",
         "x": [
          "2023-06-30T00:00:00",
          "2022-06-30T00:00:00",
          "2021-06-30T00:00:00",
          "2020-06-30T00:00:00",
          "2019-06-30T00:00:00",
          "2018-06-30T00:00:00",
          "2017-06-30T00:00:00",
          "2016-06-30T00:00:00",
          "2015-06-30T00:00:00",
          "2014-06-30T00:00:00",
          "2013-06-30T00:00:00",
          "2012-06-30T00:00:00",
          "2011-06-30T00:00:00",
          "2010-06-30T00:00:00"
         ],
         "xaxis": "x3",
         "y": [
          0.3449918234825766,
          0.37090597575837925,
          0.3692447690675923,
          0.31516053038013425,
          0.317745657718936,
          0.1545485068362836,
          0.26394052044609667,
          0.22532198257893235,
          0.13029493481513144,
          0.2542121082998399,
          0.2808385464167812,
          0.2302944806912361,
          0.3309838010951775,
          0.3002368606363229
         ],
         "yaxis": "y3"
        },
        {
         "type": "scatter",
         "x": [
          "2023-06-30T00:00:00",
          "2022-06-30T00:00:00",
          "2021-06-30T00:00:00",
          "2020-06-30T00:00:00",
          "2019-06-30T00:00:00",
          "2018-06-30T00:00:00",
          "2017-06-30T00:00:00",
          "2016-06-30T00:00:00",
          "2015-06-30T00:00:00",
          "2014-06-30T00:00:00",
          "2013-06-30T00:00:00",
          "2012-06-30T00:00:00",
          "2011-06-30T00:00:00",
          "2010-06-30T00:00:00"
         ],
         "xaxis": "x4",
         "y": [
          0.45355118309201087,
          0.45260033960705526,
          0.4578210876482499,
          0.41164957331871915,
          0.3908984169399571,
          0.3861800749846114,
          0.3502397199987574,
          0.30563661495929967,
          0.2200042744176106,
          0.3369916967051697,
          0.3624966280877083,
          0.3147593017104567,
          0.4132364925725234,
          0.4140419947506562
         ],
         "yaxis": "y4"
        }
       ],
       "layout": {
        "annotations": [
         {
          "font": {
           "size": 16
          },
          "showarrow": false,
          "text": "Gross Margin Over Time",
          "x": 0.225,
          "xanchor": "center",
          "xref": "paper",
          "y": 1,
          "yanchor": "bottom",
          "yref": "paper"
         },
         {
          "font": {
           "size": 16
          },
          "showarrow": false,
          "text": "Operating Margin Over Time",
          "x": 0.775,
          "xanchor": "center",
          "xref": "paper",
          "y": 1,
          "yanchor": "bottom",
          "yref": "paper"
         },
         {
          "font": {
           "size": 16
          },
          "showarrow": false,
          "text": "Net Margin Over Time",
          "x": 0.225,
          "xanchor": "center",
          "xref": "paper",
          "y": 0.375,
          "yanchor": "bottom",
          "yref": "paper"
         },
         {
          "font": {
           "size": 16
          },
          "showarrow": false,
          "text": "EBITDA Margin Over Time",
          "x": 0.775,
          "xanchor": "center",
          "xref": "paper",
          "y": 0.375,
          "yanchor": "bottom",
          "yref": "paper"
         }
        ],
        "height": 800,
        "showlegend": false,
        "template": {
         "data": {
          "bar": [
           {
            "error_x": {
             "color": "#2a3f5f"
            },
            "error_y": {
             "color": "#2a3f5f"
            },
            "marker": {
             "line": {
              "color": "#E5ECF6",
              "width": 0.5
             },
             "pattern": {
              "fillmode": "overlay",
              "size": 10,
              "solidity": 0.2
             }
            },
            "type": "bar"
           }
          ],
          "barpolar": [
           {
            "marker": {
             "line": {
              "color": "#E5ECF6",
              "width": 0.5
             },
             "pattern": {
              "fillmode": "overlay",
              "size": 10,
              "solidity": 0.2
             }
            },
            "type": "barpolar"
           }
          ],
          "carpet": [
           {
            "aaxis": {
             "endlinecolor": "#2a3f5f",
             "gridcolor": "white",
             "linecolor": "white",
             "minorgridcolor": "white",
             "startlinecolor": "#2a3f5f"
            },
            "baxis": {
             "endlinecolor": "#2a3f5f",
             "gridcolor": "white",
             "linecolor": "white",
             "minorgridcolor": "white",
             "startlinecolor": "#2a3f5f"
            },
            "type": "carpet"
           }
          ],
          "choropleth": [
           {
            "colorbar": {
             "outlinewidth": 0,
             "ticks": ""
            },
            "type": "choropleth"
           }
          ],
          "contour": [
           {
            "colorbar": {
             "outlinewidth": 0,
             "ticks": ""
            },
            "colorscale": [
             [
              0,
              "#0d0887"
             ],
             [
              0.1111111111111111,
              "#46039f"
             ],
             [
              0.2222222222222222,
              "#7201a8"
             ],
             [
              0.3333333333333333,
              "#9c179e"
             ],
             [
              0.4444444444444444,
              "#bd3786"
             ],
             [
              0.5555555555555556,
              "#d8576b"
             ],
             [
              0.6666666666666666,
              "#ed7953"
             ],
             [
              0.7777777777777778,
              "#fb9f3a"
             ],
             [
              0.8888888888888888,
              "#fdca26"
             ],
             [
              1,
              "#f0f921"
             ]
            ],
            "type": "contour"
           }
          ],
          "contourcarpet": [
           {
            "colorbar": {
             "outlinewidth": 0,
             "ticks": ""
            },
            "type": "contourcarpet"
           }
          ],
          "heatmap": [
           {
            "colorbar": {
             "outlinewidth": 0,
             "ticks": ""
            },
            "colorscale": [
             [
              0,
              "#0d0887"
             ],
             [
              0.1111111111111111,
              "#46039f"
             ],
             [
              0.2222222222222222,
              "#7201a8"
             ],
             [
              0.3333333333333333,
              "#9c179e"
             ],
             [
              0.4444444444444444,
              "#bd3786"
             ],
             [
              0.5555555555555556,
              "#d8576b"
             ],
             [
              0.6666666666666666,
              "#ed7953"
             ],
             [
              0.7777777777777778,
              "#fb9f3a"
             ],
             [
              0.8888888888888888,
              "#fdca26"
             ],
             [
              1,
              "#f0f921"
             ]
            ],
            "type": "heatmap"
           }
          ],
          "heatmapgl": [
           {
            "colorbar": {
             "outlinewidth": 0,
             "ticks": ""
            },
            "colorscale": [
             [
              0,
              "#0d0887"
             ],
             [
              0.1111111111111111,
              "#46039f"
             ],
             [
              0.2222222222222222,
              "#7201a8"
             ],
             [
              0.3333333333333333,
              "#9c179e"
             ],
             [
              0.4444444444444444,
              "#bd3786"
             ],
             [
              0.5555555555555556,
              "#d8576b"
             ],
             [
              0.6666666666666666,
              "#ed7953"
             ],
             [
              0.7777777777777778,
              "#fb9f3a"
             ],
             [
              0.8888888888888888,
              "#fdca26"
             ],
             [
              1,
              "#f0f921"
             ]
            ],
            "type": "heatmapgl"
           }
          ],
          "histogram": [
           {
            "marker": {
             "pattern": {
              "fillmode": "overlay",
              "size": 10,
              "solidity": 0.2
             }
            },
            "type": "histogram"
           }
          ],
          "histogram2d": [
           {
            "colorbar": {
             "outlinewidth": 0,
             "ticks": ""
            },
            "colorscale": [
             [
              0,
              "#0d0887"
             ],
             [
              0.1111111111111111,
              "#46039f"
             ],
             [
              0.2222222222222222,
              "#7201a8"
             ],
             [
              0.3333333333333333,
              "#9c179e"
             ],
             [
              0.4444444444444444,
              "#bd3786"
             ],
             [
              0.5555555555555556,
              "#d8576b"
             ],
             [
              0.6666666666666666,
              "#ed7953"
             ],
             [
              0.7777777777777778,
              "#fb9f3a"
             ],
             [
              0.8888888888888888,
              "#fdca26"
             ],
             [
              1,
              "#f0f921"
             ]
            ],
            "type": "histogram2d"
           }
          ],
          "histogram2dcontour": [
           {
            "colorbar": {
             "outlinewidth": 0,
             "ticks": ""
            },
            "colorscale": [
             [
              0,
              "#0d0887"
             ],
             [
              0.1111111111111111,
              "#46039f"
             ],
             [
              0.2222222222222222,
              "#7201a8"
             ],
             [
              0.3333333333333333,
              "#9c179e"
             ],
             [
              0.4444444444444444,
              "#bd3786"
             ],
             [
              0.5555555555555556,
              "#d8576b"
             ],
             [
              0.6666666666666666,
              "#ed7953"
             ],
             [
              0.7777777777777778,
              "#fb9f3a"
             ],
             [
              0.8888888888888888,
              "#fdca26"
             ],
             [
              1,
              "#f0f921"
             ]
            ],
            "type": "histogram2dcontour"
           }
          ],
          "mesh3d": [
           {
            "colorbar": {
             "outlinewidth": 0,
             "ticks": ""
            },
            "type": "mesh3d"
           }
          ],
          "parcoords": [
           {
            "line": {
             "colorbar": {
              "outlinewidth": 0,
              "ticks": ""
             }
            },
            "type": "parcoords"
           }
          ],
          "pie": [
           {
            "automargin": true,
            "type": "pie"
           }
          ],
          "scatter": [
           {
            "fillpattern": {
             "fillmode": "overlay",
             "size": 10,
             "solidity": 0.2
            },
            "type": "scatter"
           }
          ],
          "scatter3d": [
           {
            "line": {
             "colorbar": {
              "outlinewidth": 0,
              "ticks": ""
             }
            },
            "marker": {
             "colorbar": {
              "outlinewidth": 0,
              "ticks": ""
             }
            },
            "type": "scatter3d"
           }
          ],
          "scattercarpet": [
           {
            "marker": {
             "colorbar": {
              "outlinewidth": 0,
              "ticks": ""
             }
            },
            "type": "scattercarpet"
           }
          ],
          "scattergeo": [
           {
            "marker": {
             "colorbar": {
              "outlinewidth": 0,
              "ticks": ""
             }
            },
            "type": "scattergeo"
           }
          ],
          "scattergl": [
           {
            "marker": {
             "colorbar": {
              "outlinewidth": 0,
              "ticks": ""
             }
            },
            "type": "scattergl"
           }
          ],
          "scattermapbox": [
           {
            "marker": {
             "colorbar": {
              "outlinewidth": 0,
              "ticks": ""
             }
            },
            "type": "scattermapbox"
           }
          ],
          "scatterpolar": [
           {
            "marker": {
             "colorbar": {
              "outlinewidth": 0,
              "ticks": ""
             }
            },
            "type": "scatterpolar"
           }
          ],
          "scatterpolargl": [
           {
            "marker": {
             "colorbar": {
              "outlinewidth": 0,
              "ticks": ""
             }
            },
            "type": "scatterpolargl"
           }
          ],
          "scatterternary": [
           {
            "marker": {
             "colorbar": {
              "outlinewidth": 0,
              "ticks": ""
             }
            },
            "type": "scatterternary"
           }
          ],
          "surface": [
           {
            "colorbar": {
             "outlinewidth": 0,
             "ticks": ""
            },
            "colorscale": [
             [
              0,
              "#0d0887"
             ],
             [
              0.1111111111111111,
              "#46039f"
             ],
             [
              0.2222222222222222,
              "#7201a8"
             ],
             [
              0.3333333333333333,
              "#9c179e"
             ],
             [
              0.4444444444444444,
              "#bd3786"
             ],
             [
              0.5555555555555556,
              "#d8576b"
             ],
             [
              0.6666666666666666,
              "#ed7953"
             ],
             [
              0.7777777777777778,
              "#fb9f3a"
             ],
             [
              0.8888888888888888,
              "#fdca26"
             ],
             [
              1,
              "#f0f921"
             ]
            ],
            "type": "surface"
           }
          ],
          "table": [
           {
            "cells": {
             "fill": {
              "color": "#EBF0F8"
             },
             "line": {
              "color": "white"
             }
            },
            "header": {
             "fill": {
              "color": "#C8D4E3"
             },
             "line": {
              "color": "white"
             }
            },
            "type": "table"
           }
          ]
         },
         "layout": {
          "annotationdefaults": {
           "arrowcolor": "#2a3f5f",
           "arrowhead": 0,
           "arrowwidth": 1
          },
          "autotypenumbers": "strict",
          "coloraxis": {
           "colorbar": {
            "outlinewidth": 0,
            "ticks": ""
           }
          },
          "colorscale": {
           "diverging": [
            [
             0,
             "#8e0152"
            ],
            [
             0.1,
             "#c51b7d"
            ],
            [
             0.2,
             "#de77ae"
            ],
            [
             0.3,
             "#f1b6da"
            ],
            [
             0.4,
             "#fde0ef"
            ],
            [
             0.5,
             "#f7f7f7"
            ],
            [
             0.6,
             "#e6f5d0"
            ],
            [
             0.7,
             "#b8e186"
            ],
            [
             0.8,
             "#7fbc41"
            ],
            [
             0.9,
             "#4d9221"
            ],
            [
             1,
             "#276419"
            ]
           ],
           "sequential": [
            [
             0,
             "#0d0887"
            ],
            [
             0.1111111111111111,
             "#46039f"
            ],
            [
             0.2222222222222222,
             "#7201a8"
            ],
            [
             0.3333333333333333,
             "#9c179e"
            ],
            [
             0.4444444444444444,
             "#bd3786"
            ],
            [
             0.5555555555555556,
             "#d8576b"
            ],
            [
             0.6666666666666666,
             "#ed7953"
            ],
            [
             0.7777777777777778,
             "#fb9f3a"
            ],
            [
             0.8888888888888888,
             "#fdca26"
            ],
            [
             1,
             "#f0f921"
            ]
           ],
           "sequentialminus": [
            [
             0,
             "#0d0887"
            ],
            [
             0.1111111111111111,
             "#46039f"
            ],
            [
             0.2222222222222222,
             "#7201a8"
            ],
            [
             0.3333333333333333,
             "#9c179e"
            ],
            [
             0.4444444444444444,
             "#bd3786"
            ],
            [
             0.5555555555555556,
             "#d8576b"
            ],
            [
             0.6666666666666666,
             "#ed7953"
            ],
            [
             0.7777777777777778,
             "#fb9f3a"
            ],
            [
             0.8888888888888888,
             "#fdca26"
            ],
            [
             1,
             "#f0f921"
            ]
           ]
          },
          "colorway": [
           "#636efa",
           "#EF553B",
           "#00cc96",
           "#ab63fa",
           "#FFA15A",
           "#19d3f3",
           "#FF6692",
           "#B6E880",
           "#FF97FF",
           "#FECB52"
          ],
          "font": {
           "color": "#2a3f5f"
          },
          "geo": {
           "bgcolor": "white",
           "lakecolor": "white",
           "landcolor": "#E5ECF6",
           "showlakes": true,
           "showland": true,
           "subunitcolor": "white"
          },
          "hoverlabel": {
           "align": "left"
          },
          "hovermode": "closest",
          "mapbox": {
           "style": "light"
          },
          "paper_bgcolor": "white",
          "plot_bgcolor": "#E5ECF6",
          "polar": {
           "angularaxis": {
            "gridcolor": "white",
            "linecolor": "white",
            "ticks": ""
           },
           "bgcolor": "#E5ECF6",
           "radialaxis": {
            "gridcolor": "white",
            "linecolor": "white",
            "ticks": ""
           }
          },
          "scene": {
           "xaxis": {
            "backgroundcolor": "#E5ECF6",
            "gridcolor": "white",
            "gridwidth": 2,
            "linecolor": "white",
            "showbackground": true,
            "ticks": "",
            "zerolinecolor": "white"
           },
           "yaxis": {
            "backgroundcolor": "#E5ECF6",
            "gridcolor": "white",
            "gridwidth": 2,
            "linecolor": "white",
            "showbackground": true,
            "ticks": "",
            "zerolinecolor": "white"
           },
           "zaxis": {
            "backgroundcolor": "#E5ECF6",
            "gridcolor": "white",
            "gridwidth": 2,
            "linecolor": "white",
            "showbackground": true,
            "ticks": "",
            "zerolinecolor": "white"
           }
          },
          "shapedefaults": {
           "line": {
            "color": "#2a3f5f"
           }
          },
          "ternary": {
           "aaxis": {
            "gridcolor": "white",
            "linecolor": "white",
            "ticks": ""
           },
           "baxis": {
            "gridcolor": "white",
            "linecolor": "white",
            "ticks": ""
           },
           "bgcolor": "#E5ECF6",
           "caxis": {
            "gridcolor": "white",
            "linecolor": "white",
            "ticks": ""
           }
          },
          "title": {
           "x": 0.05
          },
          "xaxis": {
           "automargin": true,
           "gridcolor": "white",
           "linecolor": "white",
           "ticks": "",
           "title": {
            "standoff": 15
           },
           "zerolinecolor": "white",
           "zerolinewidth": 2
          },
          "yaxis": {
           "automargin": true,
           "gridcolor": "white",
           "linecolor": "white",
           "ticks": "",
           "title": {
            "standoff": 15
           },
           "zerolinecolor": "white",
           "zerolinewidth": 2
          }
         }
        },
        "width": 1000,
        "xaxis": {
         "anchor": "y",
         "domain": [
          0,
          0.45
         ]
        },
        "xaxis2": {
         "anchor": "y2",
         "domain": [
          0.55,
          1
         ]
        },
        "xaxis3": {
         "anchor": "y3",
         "domain": [
          0,
          0.45
         ]
        },
        "xaxis4": {
         "anchor": "y4",
         "domain": [
          0.55,
          1
         ]
        },
        "yaxis": {
         "anchor": "x",
         "domain": [
          0.625,
          1
         ]
        },
        "yaxis2": {
         "anchor": "x2",
         "domain": [
          0.625,
          1
         ]
        },
        "yaxis3": {
         "anchor": "x3",
         "domain": [
          0,
          0.375
         ]
        },
        "yaxis4": {
         "anchor": "x4",
         "domain": [
          0,
          0.375
         ]
        }
       }
      }
     },
     "metadata": {},
     "output_type": "display_data"
    },
    {
     "data": {
      "application/vnd.plotly.v1+json": {
       "config": {
        "plotlyServerURL": "https://plot.ly"
       },
       "data": [
        {
         "type": "scatter",
         "x": [],
         "xaxis": "x",
         "y": [],
         "yaxis": "y"
        },
        {
         "type": "scatter",
         "x": [],
         "xaxis": "x2",
         "y": [],
         "yaxis": "y2"
        },
        {
         "type": "scatter",
         "x": [],
         "xaxis": "x3",
         "y": [],
         "yaxis": "y3"
        },
        {
         "type": "scatter",
         "x": [],
         "xaxis": "x4",
         "y": [],
         "yaxis": "y4"
        }
       ],
       "layout": {
        "annotations": [
         {
          "font": {
           "size": 16
          },
          "showarrow": false,
          "text": "Gross Margin Over Time",
          "x": 0.225,
          "xanchor": "center",
          "xref": "paper",
          "y": 1,
          "yanchor": "bottom",
          "yref": "paper"
         },
         {
          "font": {
           "size": 16
          },
          "showarrow": false,
          "text": "Operating Margin Over Time",
          "x": 0.775,
          "xanchor": "center",
          "xref": "paper",
          "y": 1,
          "yanchor": "bottom",
          "yref": "paper"
         },
         {
          "font": {
           "size": 16
          },
          "showarrow": false,
          "text": "Net Margin Over Time",
          "x": 0.225,
          "xanchor": "center",
          "xref": "paper",
          "y": 0.375,
          "yanchor": "bottom",
          "yref": "paper"
         },
         {
          "font": {
           "size": 16
          },
          "showarrow": false,
          "text": "EBITDA Margin Over Time",
          "x": 0.775,
          "xanchor": "center",
          "xref": "paper",
          "y": 0.375,
          "yanchor": "bottom",
          "yref": "paper"
         }
        ],
        "height": 800,
        "showlegend": false,
        "template": {
         "data": {
          "bar": [
           {
            "error_x": {
             "color": "#2a3f5f"
            },
            "error_y": {
             "color": "#2a3f5f"
            },
            "marker": {
             "line": {
              "color": "#E5ECF6",
              "width": 0.5
             },
             "pattern": {
              "fillmode": "overlay",
              "size": 10,
              "solidity": 0.2
             }
            },
            "type": "bar"
           }
          ],
          "barpolar": [
           {
            "marker": {
             "line": {
              "color": "#E5ECF6",
              "width": 0.5
             },
             "pattern": {
              "fillmode": "overlay",
              "size": 10,
              "solidity": 0.2
             }
            },
            "type": "barpolar"
           }
          ],
          "carpet": [
           {
            "aaxis": {
             "endlinecolor": "#2a3f5f",
             "gridcolor": "white",
             "linecolor": "white",
             "minorgridcolor": "white",
             "startlinecolor": "#2a3f5f"
            },
            "baxis": {
             "endlinecolor": "#2a3f5f",
             "gridcolor": "white",
             "linecolor": "white",
             "minorgridcolor": "white",
             "startlinecolor": "#2a3f5f"
            },
            "type": "carpet"
           }
          ],
          "choropleth": [
           {
            "colorbar": {
             "outlinewidth": 0,
             "ticks": ""
            },
            "type": "choropleth"
           }
          ],
          "contour": [
           {
            "colorbar": {
             "outlinewidth": 0,
             "ticks": ""
            },
            "colorscale": [
             [
              0,
              "#0d0887"
             ],
             [
              0.1111111111111111,
              "#46039f"
             ],
             [
              0.2222222222222222,
              "#7201a8"
             ],
             [
              0.3333333333333333,
              "#9c179e"
             ],
             [
              0.4444444444444444,
              "#bd3786"
             ],
             [
              0.5555555555555556,
              "#d8576b"
             ],
             [
              0.6666666666666666,
              "#ed7953"
             ],
             [
              0.7777777777777778,
              "#fb9f3a"
             ],
             [
              0.8888888888888888,
              "#fdca26"
             ],
             [
              1,
              "#f0f921"
             ]
            ],
            "type": "contour"
           }
          ],
          "contourcarpet": [
           {
            "colorbar": {
             "outlinewidth": 0,
             "ticks": ""
            },
            "type": "contourcarpet"
           }
          ],
          "heatmap": [
           {
            "colorbar": {
             "outlinewidth": 0,
             "ticks": ""
            },
            "colorscale": [
             [
              0,
              "#0d0887"
             ],
             [
              0.1111111111111111,
              "#46039f"
             ],
             [
              0.2222222222222222,
              "#7201a8"
             ],
             [
              0.3333333333333333,
              "#9c179e"
             ],
             [
              0.4444444444444444,
              "#bd3786"
             ],
             [
              0.5555555555555556,
              "#d8576b"
             ],
             [
              0.6666666666666666,
              "#ed7953"
             ],
             [
              0.7777777777777778,
              "#fb9f3a"
             ],
             [
              0.8888888888888888,
              "#fdca26"
             ],
             [
              1,
              "#f0f921"
             ]
            ],
            "type": "heatmap"
           }
          ],
          "heatmapgl": [
           {
            "colorbar": {
             "outlinewidth": 0,
             "ticks": ""
            },
            "colorscale": [
             [
              0,
              "#0d0887"
             ],
             [
              0.1111111111111111,
              "#46039f"
             ],
             [
              0.2222222222222222,
              "#7201a8"
             ],
             [
              0.3333333333333333,
              "#9c179e"
             ],
             [
              0.4444444444444444,
              "#bd3786"
             ],
             [
              0.5555555555555556,
              "#d8576b"
             ],
             [
              0.6666666666666666,
              "#ed7953"
             ],
             [
              0.7777777777777778,
              "#fb9f3a"
             ],
             [
              0.8888888888888888,
              "#fdca26"
             ],
             [
              1,
              "#f0f921"
             ]
            ],
            "type": "heatmapgl"
           }
          ],
          "histogram": [
           {
            "marker": {
             "pattern": {
              "fillmode": "overlay",
              "size": 10,
              "solidity": 0.2
             }
            },
            "type": "histogram"
           }
          ],
          "histogram2d": [
           {
            "colorbar": {
             "outlinewidth": 0,
             "ticks": ""
            },
            "colorscale": [
             [
              0,
              "#0d0887"
             ],
             [
              0.1111111111111111,
              "#46039f"
             ],
             [
              0.2222222222222222,
              "#7201a8"
             ],
             [
              0.3333333333333333,
              "#9c179e"
             ],
             [
              0.4444444444444444,
              "#bd3786"
             ],
             [
              0.5555555555555556,
              "#d8576b"
             ],
             [
              0.6666666666666666,
              "#ed7953"
             ],
             [
              0.7777777777777778,
              "#fb9f3a"
             ],
             [
              0.8888888888888888,
              "#fdca26"
             ],
             [
              1,
              "#f0f921"
             ]
            ],
            "type": "histogram2d"
           }
          ],
          "histogram2dcontour": [
           {
            "colorbar": {
             "outlinewidth": 0,
             "ticks": ""
            },
            "colorscale": [
             [
              0,
              "#0d0887"
             ],
             [
              0.1111111111111111,
              "#46039f"
             ],
             [
              0.2222222222222222,
              "#7201a8"
             ],
             [
              0.3333333333333333,
              "#9c179e"
             ],
             [
              0.4444444444444444,
              "#bd3786"
             ],
             [
              0.5555555555555556,
              "#d8576b"
             ],
             [
              0.6666666666666666,
              "#ed7953"
             ],
             [
              0.7777777777777778,
              "#fb9f3a"
             ],
             [
              0.8888888888888888,
              "#fdca26"
             ],
             [
              1,
              "#f0f921"
             ]
            ],
            "type": "histogram2dcontour"
           }
          ],
          "mesh3d": [
           {
            "colorbar": {
             "outlinewidth": 0,
             "ticks": ""
            },
            "type": "mesh3d"
           }
          ],
          "parcoords": [
           {
            "line": {
             "colorbar": {
              "outlinewidth": 0,
              "ticks": ""
             }
            },
            "type": "parcoords"
           }
          ],
          "pie": [
           {
            "automargin": true,
            "type": "pie"
           }
          ],
          "scatter": [
           {
            "fillpattern": {
             "fillmode": "overlay",
             "size": 10,
             "solidity": 0.2
            },
            "type": "scatter"
           }
          ],
          "scatter3d": [
           {
            "line": {
             "colorbar": {
              "outlinewidth": 0,
              "ticks": ""
             }
            },
            "marker": {
             "colorbar": {
              "outlinewidth": 0,
              "ticks": ""
             }
            },
            "type": "scatter3d"
           }
          ],
          "scattercarpet": [
           {
            "marker": {
             "colorbar": {
              "outlinewidth": 0,
              "ticks": ""
             }
            },
            "type": "scattercarpet"
           }
          ],
          "scattergeo": [
           {
            "marker": {
             "colorbar": {
              "outlinewidth": 0,
              "ticks": ""
             }
            },
            "type": "scattergeo"
           }
          ],
          "scattergl": [
           {
            "marker": {
             "colorbar": {
              "outlinewidth": 0,
              "ticks": ""
             }
            },
            "type": "scattergl"
           }
          ],
          "scattermapbox": [
           {
            "marker": {
             "colorbar": {
              "outlinewidth": 0,
              "ticks": ""
             }
            },
            "type": "scattermapbox"
           }
          ],
          "scatterpolar": [
           {
            "marker": {
             "colorbar": {
              "outlinewidth": 0,
              "ticks": ""
             }
            },
            "type": "scatterpolar"
           }
          ],
          "scatterpolargl": [
           {
            "marker": {
             "colorbar": {
              "outlinewidth": 0,
              "ticks": ""
             }
            },
            "type": "scatterpolargl"
           }
          ],
          "scatterternary": [
           {
            "marker": {
             "colorbar": {
              "outlinewidth": 0,
              "ticks": ""
             }
            },
            "type": "scatterternary"
           }
          ],
          "surface": [
           {
            "colorbar": {
             "outlinewidth": 0,
             "ticks": ""
            },
            "colorscale": [
             [
              0,
              "#0d0887"
             ],
             [
              0.1111111111111111,
              "#46039f"
             ],
             [
              0.2222222222222222,
              "#7201a8"
             ],
             [
              0.3333333333333333,
              "#9c179e"
             ],
             [
              0.4444444444444444,
              "#bd3786"
             ],
             [
              0.5555555555555556,
              "#d8576b"
             ],
             [
              0.6666666666666666,
              "#ed7953"
             ],
             [
              0.7777777777777778,
              "#fb9f3a"
             ],
             [
              0.8888888888888888,
              "#fdca26"
             ],
             [
              1,
              "#f0f921"
             ]
            ],
            "type": "surface"
           }
          ],
          "table": [
           {
            "cells": {
             "fill": {
              "color": "#EBF0F8"
             },
             "line": {
              "color": "white"
             }
            },
            "header": {
             "fill": {
              "color": "#C8D4E3"
             },
             "line": {
              "color": "white"
             }
            },
            "type": "table"
           }
          ]
         },
         "layout": {
          "annotationdefaults": {
           "arrowcolor": "#2a3f5f",
           "arrowhead": 0,
           "arrowwidth": 1
          },
          "autotypenumbers": "strict",
          "coloraxis": {
           "colorbar": {
            "outlinewidth": 0,
            "ticks": ""
           }
          },
          "colorscale": {
           "diverging": [
            [
             0,
             "#8e0152"
            ],
            [
             0.1,
             "#c51b7d"
            ],
            [
             0.2,
             "#de77ae"
            ],
            [
             0.3,
             "#f1b6da"
            ],
            [
             0.4,
             "#fde0ef"
            ],
            [
             0.5,
             "#f7f7f7"
            ],
            [
             0.6,
             "#e6f5d0"
            ],
            [
             0.7,
             "#b8e186"
            ],
            [
             0.8,
             "#7fbc41"
            ],
            [
             0.9,
             "#4d9221"
            ],
            [
             1,
             "#276419"
            ]
           ],
           "sequential": [
            [
             0,
             "#0d0887"
            ],
            [
             0.1111111111111111,
             "#46039f"
            ],
            [
             0.2222222222222222,
             "#7201a8"
            ],
            [
             0.3333333333333333,
             "#9c179e"
            ],
            [
             0.4444444444444444,
             "#bd3786"
            ],
            [
             0.5555555555555556,
             "#d8576b"
            ],
            [
             0.6666666666666666,
             "#ed7953"
            ],
            [
             0.7777777777777778,
             "#fb9f3a"
            ],
            [
             0.8888888888888888,
             "#fdca26"
            ],
            [
             1,
             "#f0f921"
            ]
           ],
           "sequentialminus": [
            [
             0,
             "#0d0887"
            ],
            [
             0.1111111111111111,
             "#46039f"
            ],
            [
             0.2222222222222222,
             "#7201a8"
            ],
            [
             0.3333333333333333,
             "#9c179e"
            ],
            [
             0.4444444444444444,
             "#bd3786"
            ],
            [
             0.5555555555555556,
             "#d8576b"
            ],
            [
             0.6666666666666666,
             "#ed7953"
            ],
            [
             0.7777777777777778,
             "#fb9f3a"
            ],
            [
             0.8888888888888888,
             "#fdca26"
            ],
            [
             1,
             "#f0f921"
            ]
           ]
          },
          "colorway": [
           "#636efa",
           "#EF553B",
           "#00cc96",
           "#ab63fa",
           "#FFA15A",
           "#19d3f3",
           "#FF6692",
           "#B6E880",
           "#FF97FF",
           "#FECB52"
          ],
          "font": {
           "color": "#2a3f5f"
          },
          "geo": {
           "bgcolor": "white",
           "lakecolor": "white",
           "landcolor": "#E5ECF6",
           "showlakes": true,
           "showland": true,
           "subunitcolor": "white"
          },
          "hoverlabel": {
           "align": "left"
          },
          "hovermode": "closest",
          "mapbox": {
           "style": "light"
          },
          "paper_bgcolor": "white",
          "plot_bgcolor": "#E5ECF6",
          "polar": {
           "angularaxis": {
            "gridcolor": "white",
            "linecolor": "white",
            "ticks": ""
           },
           "bgcolor": "#E5ECF6",
           "radialaxis": {
            "gridcolor": "white",
            "linecolor": "white",
            "ticks": ""
           }
          },
          "scene": {
           "xaxis": {
            "backgroundcolor": "#E5ECF6",
            "gridcolor": "white",
            "gridwidth": 2,
            "linecolor": "white",
            "showbackground": true,
            "ticks": "",
            "zerolinecolor": "white"
           },
           "yaxis": {
            "backgroundcolor": "#E5ECF6",
            "gridcolor": "white",
            "gridwidth": 2,
            "linecolor": "white",
            "showbackground": true,
            "ticks": "",
            "zerolinecolor": "white"
           },
           "zaxis": {
            "backgroundcolor": "#E5ECF6",
            "gridcolor": "white",
            "gridwidth": 2,
            "linecolor": "white",
            "showbackground": true,
            "ticks": "",
            "zerolinecolor": "white"
           }
          },
          "shapedefaults": {
           "line": {
            "color": "#2a3f5f"
           }
          },
          "ternary": {
           "aaxis": {
            "gridcolor": "white",
            "linecolor": "white",
            "ticks": ""
           },
           "baxis": {
            "gridcolor": "white",
            "linecolor": "white",
            "ticks": ""
           },
           "bgcolor": "#E5ECF6",
           "caxis": {
            "gridcolor": "white",
            "linecolor": "white",
            "ticks": ""
           }
          },
          "title": {
           "x": 0.05
          },
          "xaxis": {
           "automargin": true,
           "gridcolor": "white",
           "linecolor": "white",
           "ticks": "",
           "title": {
            "standoff": 15
           },
           "zerolinecolor": "white",
           "zerolinewidth": 2
          },
          "yaxis": {
           "automargin": true,
           "gridcolor": "white",
           "linecolor": "white",
           "ticks": "",
           "title": {
            "standoff": 15
           },
           "zerolinecolor": "white",
           "zerolinewidth": 2
          }
         }
        },
        "width": 1000,
        "xaxis": {
         "anchor": "y",
         "domain": [
          0,
          0.45
         ]
        },
        "xaxis2": {
         "anchor": "y2",
         "domain": [
          0.55,
          1
         ]
        },
        "xaxis3": {
         "anchor": "y3",
         "domain": [
          0,
          0.45
         ]
        },
        "xaxis4": {
         "anchor": "y4",
         "domain": [
          0.55,
          1
         ]
        },
        "yaxis": {
         "anchor": "x",
         "domain": [
          0.625,
          1
         ]
        },
        "yaxis2": {
         "anchor": "x2",
         "domain": [
          0.625,
          1
         ]
        },
        "yaxis3": {
         "anchor": "x3",
         "domain": [
          0,
          0.375
         ]
        },
        "yaxis4": {
         "anchor": "x4",
         "domain": [
          0,
          0.375
         ]
        }
       }
      }
     },
     "metadata": {},
     "output_type": "display_data"
    }
   ],
   "source": [
    "import plotly.express as px\n",
    "import plotly.graph_objects as go\n",
    "from plotly.subplots import make_subplots\n",
    "\n",
    "\n",
    "\n",
    "companies = [aapl_metrics, amzn_metrics, googl_metrics, msft_metrics, nvda_metrics]\n",
    "\n",
    "for company in companies:\n",
    "    # Create figure with secondary y-axis\n",
    "    fig = make_subplots(rows=2, cols=2, \n",
    "                       subplot_titles=('Gross Margin Over Time', \n",
    "                                     'Operating Margin Over Time',\n",
    "                                     'Net Margin Over Time', \n",
    "                                     'EBITDA Margin Over Time'))\n",
    "\n",
    "    # Add traces\n",
    "    fig.add_trace(\n",
    "        go.Scatter(x=company['Year'], y=company['gross_margin']),\n",
    "        row=1, col=1\n",
    "    )\n",
    "\n",
    "    fig.add_trace(\n",
    "        go.Scatter(x=company['Year'], y=company['operating_margin']),\n",
    "        row=1, col=2\n",
    "    )\n",
    "\n",
    "    fig.add_trace(\n",
    "        go.Scatter(x=company['Year'], y=company['net_margin']),\n",
    "        row=2, col=1\n",
    "    )\n",
    "\n",
    "    fig.add_trace(\n",
    "        go.Scatter(x=company['Year'], y=company['ebitda_margin']),\n",
    "        row=2, col=2\n",
    "    )\n",
    "\n",
    "    # Update layout\n",
    "    fig.update_layout(height=800, width=1000, showlegend=False)\n",
    "    fig.show()\n",
    "\n",
    "\n"
   ]
  },
  {
   "cell_type": "code",
   "execution_count": null,
   "metadata": {},
   "outputs": [],
   "source": []
  },
  {
   "cell_type": "code",
   "execution_count": null,
   "metadata": {},
   "outputs": [],
   "source": []
  },
  {
   "cell_type": "code",
   "execution_count": null,
   "metadata": {},
   "outputs": [],
   "source": []
  }
 ],
 "metadata": {
  "kernelspec": {
   "display_name": "Python 3",
   "language": "python",
   "name": "python3"
  },
  "language_info": {
   "codemirror_mode": {
    "name": "ipython",
    "version": 3
   },
   "file_extension": ".py",
   "mimetype": "text/x-python",
   "name": "python",
   "nbconvert_exporter": "python",
   "pygments_lexer": "ipython3",
   "version": "3.12.4"
  }
 },
 "nbformat": 4,
 "nbformat_minor": 2
}
